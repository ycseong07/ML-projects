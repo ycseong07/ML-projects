{
 "cells": [
  {
   "cell_type": "markdown",
   "metadata": {},
   "source": [
    "# **실제 분류 데이터를 활용하여 SVR학습 모델 학습**"
   ]
  },
  {
   "cell_type": "code",
   "execution_count": 1,
   "metadata": {},
   "outputs": [],
   "source": [
    "%matplotlib inline\n",
    "import numpy as np\n",
    "import pandas as pd\n",
    "from sklearn.svm import SVR\n",
    "from sklearn.preprocessing import StandardScaler,normalize\n",
    "from sklearn.metrics import confusion_matrix, mean_squared_error\n",
    "\n",
    "import matplotlib.pyplot as plt\n",
    "from sklearn.model_selection import StratifiedShuffleSplit, GridSearchCV, train_test_split\n",
    "\n",
    "import warnings\n",
    "warnings.filterwarnings(\"ignore\")"
   ]
  },
  {
   "cell_type": "markdown",
   "metadata": {},
   "source": [
    "**mortgage - regression 예제**"
   ]
  },
  {
   "cell_type": "markdown",
   "metadata": {},
   "source": [
    "실제 분류 예제 데이터(mortgage.csv) 를 사용하여 인공신경망 모델을 학습해보겠습니다.\n",
    "\n",
    "학습데이터를 정규화작업을 거쳐, 학습과 모델 평가를 위해 6:4의 비율로 학습데이터와 평가데이터로 나누어 보도록 보겠습니다.\n",
    "\n",
    "또한, 예측 성능 평가를 위해 MAPE 성능지표 산출 함수를 정의하였습니다."
   ]
  },
  {
   "cell_type": "code",
   "execution_count": 2,
   "metadata": {},
   "outputs": [
    {
     "name": "stdout",
     "output_type": "stream",
     "text": [
      "(1049, 16)\n"
     ]
    }
   ],
   "source": [
    "mor = pd.read_csv('./data/mortgage.csv', delimiter=',')\n",
    "print(mor.shape)"
   ]
  },
  {
   "cell_type": "code",
   "execution_count": 3,
   "metadata": {},
   "outputs": [
    {
     "data": {
      "text/html": [
       "<div>\n",
       "<style scoped>\n",
       "    .dataframe tbody tr th:only-of-type {\n",
       "        vertical-align: middle;\n",
       "    }\n",
       "\n",
       "    .dataframe tbody tr th {\n",
       "        vertical-align: top;\n",
       "    }\n",
       "\n",
       "    .dataframe thead th {\n",
       "        text-align: right;\n",
       "    }\n",
       "</style>\n",
       "<table border=\"1\" class=\"dataframe\">\n",
       "  <thead>\n",
       "    <tr style=\"text-align: right;\">\n",
       "      <th></th>\n",
       "      <th>OneMonthCDRate</th>\n",
       "      <th>OneY.CMaturityRate</th>\n",
       "      <th>ThreeM.Rate.AuctionAverage</th>\n",
       "      <th>ThreeM.Rate.SecondaryMarket</th>\n",
       "      <th>ThreeY.CMaturityRate</th>\n",
       "      <th>FiveY.CMaturityRate</th>\n",
       "      <th>BankCredit</th>\n",
       "      <th>Currency</th>\n",
       "      <th>DemandDeposits</th>\n",
       "      <th>FederalFunds</th>\n",
       "      <th>MoneyStock</th>\n",
       "      <th>CheckableDeposits</th>\n",
       "      <th>LoansLeases</th>\n",
       "      <th>SavingsDeposits</th>\n",
       "      <th>TradeCurrencies</th>\n",
       "      <th>ThirtyY.CMortgageRate</th>\n",
       "    </tr>\n",
       "  </thead>\n",
       "  <tbody>\n",
       "    <tr>\n",
       "      <th>0</th>\n",
       "      <td>8.72</td>\n",
       "      <td>90.729</td>\n",
       "      <td>9.69</td>\n",
       "      <td>7.62</td>\n",
       "      <td>7.60</td>\n",
       "      <td>7.72</td>\n",
       "      <td>7.69</td>\n",
       "      <td>2605.8</td>\n",
       "      <td>223.4</td>\n",
       "      <td>279.6</td>\n",
       "      <td>8.52</td>\n",
       "      <td>794.4</td>\n",
       "      <td>564.8</td>\n",
       "      <td>2020.2</td>\n",
       "      <td>894.7</td>\n",
       "      <td>7.66</td>\n",
       "    </tr>\n",
       "    <tr>\n",
       "      <th>1</th>\n",
       "      <td>13.85</td>\n",
       "      <td>109.392</td>\n",
       "      <td>17.19</td>\n",
       "      <td>12.06</td>\n",
       "      <td>12.47</td>\n",
       "      <td>13.94</td>\n",
       "      <td>13.82</td>\n",
       "      <td>1347.4</td>\n",
       "      <td>124.4</td>\n",
       "      <td>230.8</td>\n",
       "      <td>14.35</td>\n",
       "      <td>443.0</td>\n",
       "      <td>314.8</td>\n",
       "      <td>1033.8</td>\n",
       "      <td>343.9</td>\n",
       "      <td>13.73</td>\n",
       "    </tr>\n",
       "    <tr>\n",
       "      <th>2</th>\n",
       "      <td>6.59</td>\n",
       "      <td>87.979</td>\n",
       "      <td>9.94</td>\n",
       "      <td>5.74</td>\n",
       "      <td>5.67</td>\n",
       "      <td>7.42</td>\n",
       "      <td>7.73</td>\n",
       "      <td>2280.2</td>\n",
       "      <td>198.9</td>\n",
       "      <td>287.2</td>\n",
       "      <td>6.77</td>\n",
       "      <td>755.9</td>\n",
       "      <td>551.0</td>\n",
       "      <td>1743.9</td>\n",
       "      <td>936.5</td>\n",
       "      <td>6.65</td>\n",
       "    </tr>\n",
       "    <tr>\n",
       "      <th>3</th>\n",
       "      <td>17.43</td>\n",
       "      <td>96.064</td>\n",
       "      <td>15.07</td>\n",
       "      <td>15.20</td>\n",
       "      <td>15.01</td>\n",
       "      <td>13.13</td>\n",
       "      <td>12.89</td>\n",
       "      <td>1237.4</td>\n",
       "      <td>115.5</td>\n",
       "      <td>241.9</td>\n",
       "      <td>18.12</td>\n",
       "      <td>410.3</td>\n",
       "      <td>291.3</td>\n",
       "      <td>933.1</td>\n",
       "      <td>377.5</td>\n",
       "      <td>14.24</td>\n",
       "    </tr>\n",
       "    <tr>\n",
       "      <th>4</th>\n",
       "      <td>3.16</td>\n",
       "      <td>85.121</td>\n",
       "      <td>8.21</td>\n",
       "      <td>2.97</td>\n",
       "      <td>2.94</td>\n",
       "      <td>4.93</td>\n",
       "      <td>5.85</td>\n",
       "      <td>2937.9</td>\n",
       "      <td>288.7</td>\n",
       "      <td>336.4</td>\n",
       "      <td>2.96</td>\n",
       "      <td>1012.5</td>\n",
       "      <td>715.6</td>\n",
       "      <td>2110.2</td>\n",
       "      <td>1179.5</td>\n",
       "      <td>3.50</td>\n",
       "    </tr>\n",
       "    <tr>\n",
       "      <th>...</th>\n",
       "      <td>...</td>\n",
       "      <td>...</td>\n",
       "      <td>...</td>\n",
       "      <td>...</td>\n",
       "      <td>...</td>\n",
       "      <td>...</td>\n",
       "      <td>...</td>\n",
       "      <td>...</td>\n",
       "      <td>...</td>\n",
       "      <td>...</td>\n",
       "      <td>...</td>\n",
       "      <td>...</td>\n",
       "      <td>...</td>\n",
       "      <td>...</td>\n",
       "      <td>...</td>\n",
       "      <td>...</td>\n",
       "    </tr>\n",
       "    <tr>\n",
       "      <th>1044</th>\n",
       "      <td>9.34</td>\n",
       "      <td>85.261</td>\n",
       "      <td>10.46</td>\n",
       "      <td>8.04</td>\n",
       "      <td>7.96</td>\n",
       "      <td>9.01</td>\n",
       "      <td>8.99</td>\n",
       "      <td>2428.8</td>\n",
       "      <td>211.7</td>\n",
       "      <td>288.9</td>\n",
       "      <td>8.59</td>\n",
       "      <td>787.1</td>\n",
       "      <td>569.3</td>\n",
       "      <td>1866.6</td>\n",
       "      <td>928.4</td>\n",
       "      <td>8.89</td>\n",
       "    </tr>\n",
       "    <tr>\n",
       "      <th>1045</th>\n",
       "      <td>7.28</td>\n",
       "      <td>83.494</td>\n",
       "      <td>9.63</td>\n",
       "      <td>6.52</td>\n",
       "      <td>6.31</td>\n",
       "      <td>7.41</td>\n",
       "      <td>7.77</td>\n",
       "      <td>2749.2</td>\n",
       "      <td>250.2</td>\n",
       "      <td>274.2</td>\n",
       "      <td>6.40</td>\n",
       "      <td>825.4</td>\n",
       "      <td>568.2</td>\n",
       "      <td>2112.1</td>\n",
       "      <td>926.2</td>\n",
       "      <td>6.71</td>\n",
       "    </tr>\n",
       "    <tr>\n",
       "      <th>1046</th>\n",
       "      <td>5.72</td>\n",
       "      <td>92.767</td>\n",
       "      <td>8.18</td>\n",
       "      <td>5.24</td>\n",
       "      <td>5.26</td>\n",
       "      <td>6.48</td>\n",
       "      <td>6.56</td>\n",
       "      <td>4794.8</td>\n",
       "      <td>524.7</td>\n",
       "      <td>345.6</td>\n",
       "      <td>5.62</td>\n",
       "      <td>1120.6</td>\n",
       "      <td>587.7</td>\n",
       "      <td>3532.6</td>\n",
       "      <td>1737.8</td>\n",
       "      <td>6.12</td>\n",
       "    </tr>\n",
       "    <tr>\n",
       "      <th>1047</th>\n",
       "      <td>8.19</td>\n",
       "      <td>91.191</td>\n",
       "      <td>10.12</td>\n",
       "      <td>7.73</td>\n",
       "      <td>7.70</td>\n",
       "      <td>8.36</td>\n",
       "      <td>8.39</td>\n",
       "      <td>2684.6</td>\n",
       "      <td>233.8</td>\n",
       "      <td>273.7</td>\n",
       "      <td>8.30</td>\n",
       "      <td>809.2</td>\n",
       "      <td>567.6</td>\n",
       "      <td>2066.7</td>\n",
       "      <td>914.8</td>\n",
       "      <td>8.05</td>\n",
       "    </tr>\n",
       "    <tr>\n",
       "      <th>1048</th>\n",
       "      <td>10.21</td>\n",
       "      <td>132.995</td>\n",
       "      <td>14.10</td>\n",
       "      <td>9.98</td>\n",
       "      <td>9.81</td>\n",
       "      <td>11.88</td>\n",
       "      <td>12.10</td>\n",
       "      <td>1707.6</td>\n",
       "      <td>154.7</td>\n",
       "      <td>239.3</td>\n",
       "      <td>10.22</td>\n",
       "      <td>542.0</td>\n",
       "      <td>382.6</td>\n",
       "      <td>1302.8</td>\n",
       "      <td>687.2</td>\n",
       "      <td>10.93</td>\n",
       "    </tr>\n",
       "  </tbody>\n",
       "</table>\n",
       "<p>1049 rows × 16 columns</p>\n",
       "</div>"
      ],
      "text/plain": [
       "      OneMonthCDRate  OneY.CMaturityRate  ThreeM.Rate.AuctionAverage  \\\n",
       "0               8.72              90.729                        9.69   \n",
       "1              13.85             109.392                       17.19   \n",
       "2               6.59              87.979                        9.94   \n",
       "3              17.43              96.064                       15.07   \n",
       "4               3.16              85.121                        8.21   \n",
       "...              ...                 ...                         ...   \n",
       "1044            9.34              85.261                       10.46   \n",
       "1045            7.28              83.494                        9.63   \n",
       "1046            5.72              92.767                        8.18   \n",
       "1047            8.19              91.191                       10.12   \n",
       "1048           10.21             132.995                       14.10   \n",
       "\n",
       "      ThreeM.Rate.SecondaryMarket  ThreeY.CMaturityRate  FiveY.CMaturityRate  \\\n",
       "0                            7.62                  7.60                 7.72   \n",
       "1                           12.06                 12.47                13.94   \n",
       "2                            5.74                  5.67                 7.42   \n",
       "3                           15.20                 15.01                13.13   \n",
       "4                            2.97                  2.94                 4.93   \n",
       "...                           ...                   ...                  ...   \n",
       "1044                         8.04                  7.96                 9.01   \n",
       "1045                         6.52                  6.31                 7.41   \n",
       "1046                         5.24                  5.26                 6.48   \n",
       "1047                         7.73                  7.70                 8.36   \n",
       "1048                         9.98                  9.81                11.88   \n",
       "\n",
       "      BankCredit  Currency  DemandDeposits  FederalFunds  MoneyStock  \\\n",
       "0           7.69    2605.8           223.4         279.6        8.52   \n",
       "1          13.82    1347.4           124.4         230.8       14.35   \n",
       "2           7.73    2280.2           198.9         287.2        6.77   \n",
       "3          12.89    1237.4           115.5         241.9       18.12   \n",
       "4           5.85    2937.9           288.7         336.4        2.96   \n",
       "...          ...       ...             ...           ...         ...   \n",
       "1044        8.99    2428.8           211.7         288.9        8.59   \n",
       "1045        7.77    2749.2           250.2         274.2        6.40   \n",
       "1046        6.56    4794.8           524.7         345.6        5.62   \n",
       "1047        8.39    2684.6           233.8         273.7        8.30   \n",
       "1048       12.10    1707.6           154.7         239.3       10.22   \n",
       "\n",
       "      CheckableDeposits  LoansLeases  SavingsDeposits  TradeCurrencies  \\\n",
       "0                 794.4        564.8           2020.2            894.7   \n",
       "1                 443.0        314.8           1033.8            343.9   \n",
       "2                 755.9        551.0           1743.9            936.5   \n",
       "3                 410.3        291.3            933.1            377.5   \n",
       "4                1012.5        715.6           2110.2           1179.5   \n",
       "...                 ...          ...              ...              ...   \n",
       "1044              787.1        569.3           1866.6            928.4   \n",
       "1045              825.4        568.2           2112.1            926.2   \n",
       "1046             1120.6        587.7           3532.6           1737.8   \n",
       "1047              809.2        567.6           2066.7            914.8   \n",
       "1048              542.0        382.6           1302.8            687.2   \n",
       "\n",
       "      ThirtyY.CMortgageRate  \n",
       "0                      7.66  \n",
       "1                     13.73  \n",
       "2                      6.65  \n",
       "3                     14.24  \n",
       "4                      3.50  \n",
       "...                     ...  \n",
       "1044                   8.89  \n",
       "1045                   6.71  \n",
       "1046                   6.12  \n",
       "1047                   8.05  \n",
       "1048                  10.93  \n",
       "\n",
       "[1049 rows x 16 columns]"
      ]
     },
     "execution_count": 3,
     "metadata": {},
     "output_type": "execute_result"
    }
   ],
   "source": [
    "mor"
   ]
  },
  {
   "cell_type": "code",
   "execution_count": 4,
   "metadata": {},
   "outputs": [
    {
     "name": "stdout",
     "output_type": "stream",
     "text": [
      "X: (1049, 15)\n",
      "y: (1049,)\n"
     ]
    }
   ],
   "source": [
    "mor_y = mor['ThirtyY.CMortgageRate']\n",
    "mor_x = mor.drop(['ThirtyY.CMortgageRate'],axis=1)\n",
    "print('X:',mor_x.shape)\n",
    "print('y:',mor_y.shape)"
   ]
  },
  {
   "cell_type": "markdown",
   "metadata": {},
   "source": [
    "- 데이터 정규화"
   ]
  },
  {
   "cell_type": "code",
   "execution_count": 5,
   "metadata": {},
   "outputs": [
    {
     "data": {
      "text/plain": [
       "StandardScaler()"
      ]
     },
     "execution_count": 5,
     "metadata": {},
     "output_type": "execute_result"
    }
   ],
   "source": [
    "scaler = StandardScaler()\n",
    "scaler"
   ]
  },
  {
   "cell_type": "code",
   "execution_count": 6,
   "metadata": {},
   "outputs": [
    {
     "data": {
      "text/plain": [
       "array([[ 0.35491563, -0.45799122, -0.2403576 , ...,  0.09625994,\n",
       "         0.0848087 , -0.16115823],\n",
       "       [ 1.8746428 ,  0.83226746,  2.29560079, ..., -1.49612074,\n",
       "        -1.28483455, -1.64134569],\n",
       "       [-0.2760822 , -0.64811132, -0.15582566, ...,  0.00836053,\n",
       "        -0.29884137, -0.04882737],\n",
       "       ...,\n",
       "       [-0.53381371, -0.31709495, -0.75093056, ...,  0.24212201,\n",
       "         2.18481727,  2.10453902],\n",
       "       [ 0.19790678, -0.42605105, -0.09496266, ...,  0.11409461,\n",
       "         0.14937522, -0.10714267],\n",
       "       [ 0.79631787,  2.46405097,  1.25078593, ..., -1.0642671 ,\n",
       "        -0.91132073, -0.7187815 ]])"
      ]
     },
     "execution_count": 6,
     "metadata": {},
     "output_type": "execute_result"
    }
   ],
   "source": [
    "mor_x = scaler.fit_transform(mor_x)\n",
    "mor_x"
   ]
  },
  {
   "cell_type": "code",
   "execution_count": 7,
   "metadata": {},
   "outputs": [],
   "source": [
    "mor_train_x, mor_test_x, mor_train_y, mor_test_y = train_test_split(mor_x, mor_y, test_size=0.4, random_state=0)"
   ]
  },
  {
   "cell_type": "markdown",
   "metadata": {},
   "source": [
    "---"
   ]
  },
  {
   "cell_type": "markdown",
   "metadata": {},
   "source": [
    "- 실제값 대비 잔차가 얼마나 좋아졌는지 확인"
   ]
  },
  {
   "cell_type": "markdown",
   "metadata": {},
   "source": [
    "$$MAPE = \\frac{100\\%}{n} \\sum^{n}_{t=1}|\\frac{A_t-F_t}{A_t}|$$"
   ]
  },
  {
   "cell_type": "markdown",
   "metadata": {},
   "source": [
    "$A_t$: actual value"
   ]
  },
  {
   "cell_type": "markdown",
   "metadata": {},
   "source": [
    "$F_t$: forecast value"
   ]
  },
  {
   "cell_type": "code",
   "execution_count": 8,
   "metadata": {},
   "outputs": [],
   "source": [
    "def mean_absolute_percentage_error(y_true, y_pred):\n",
    "    y_true, y_pred = np.array(y_true), np.array(y_pred)\n",
    "    return np.mean(np.abs((y_true - y_pred) / y_true)) * 100"
   ]
  },
  {
   "cell_type": "markdown",
   "metadata": {},
   "source": [
    "---"
   ]
  },
  {
   "cell_type": "markdown",
   "metadata": {},
   "source": [
    "### 단순 Multiple Linear Regression 학습 모델과의 비교\n",
    "\n",
    "SVM regression과 단순한 MLR(Multiple Linear Regression)의 성능 비교를 위해 MLR학습 모델을 정의하였습니다."
   ]
  },
  {
   "cell_type": "code",
   "execution_count": 9,
   "metadata": {},
   "outputs": [
    {
     "name": "stdout",
     "output_type": "stream",
     "text": [
      "==== mortgage - regression ================\n",
      "MAPE:1.1532713612507317\n",
      "===========================================\n"
     ]
    }
   ],
   "source": [
    "#  package\n",
    "from sklearn.linear_model import LinearRegression\n",
    "\n",
    "# model/fit\n",
    "mor_regression = LinearRegression()\n",
    "mor_regression.fit(mor_train_x,mor_train_y)\n",
    "\n",
    "# prediction\n",
    "mor_regression_pred = mor_regression.predict(mor_test_x)\n",
    "\n",
    "# eval\n",
    "mor_regression_mape = mean_absolute_percentage_error(mor_test_y,mor_regression_pred)\n",
    "mor_regression_rmse = np.sqrt(mean_squared_error(y_true=mor_test_y, y_pred=mor_regression_pred))\n",
    "\n",
    "print('==== mortgage - regression ================')\n",
    "print('MAPE:{}'.format(mor_regression_mape))\n",
    "print('===========================================')"
   ]
  },
  {
   "cell_type": "markdown",
   "metadata": {},
   "source": [
    "---"
   ]
  },
  {
   "cell_type": "markdown",
   "metadata": {},
   "source": [
    "### Neural Network Regression 학습 모델과의 비교\n",
    "\n",
    "SVM regression과 ANN regression의 성능 비교를 위해 모델을 정의하였습니다. \n",
    "\n",
    "기본적인 학습 파라미터인 'hidden node'와 'max_iteration'을 cross-valdation을 통해서 최적화를 진행하였습니다."
   ]
  },
  {
   "cell_type": "code",
   "execution_count": 10,
   "metadata": {},
   "outputs": [],
   "source": [
    "### Neural Network model training\n",
    "from sklearn.neural_network import MLPRegressor\n",
    "def NN_CV_regresser(train_x, train_y, max_nodes,CV_N ,plot=False):\n",
    "    \n",
    "    #1부터 10까지의 neighbor에 대해 최적의 k를 cross-validation을 이용하여 찾아냄\n",
    "    parameters = {'hidden_layer_sizes': np.arange(start=1, stop=max_nodes,step=3).tolist(),\n",
    "                  'max_iter': [300,500]}\n",
    "    \n",
    "    clf = MLPRegressor(learning_rate_init=0.01)\n",
    "    \n",
    "    grid_clf = GridSearchCV(clf, parameters,cv=CV_N)\n",
    "\n",
    "    grid_clf.fit(train_x,train_y)\n",
    "\n",
    "    print( grid_clf.best_params_)\n",
    "    \n",
    "    optimal_parameters = list(grid_clf.best_params_.values())\n",
    "\n",
    "    print(\"The optimal number of hidden nodes : {}\\n& max iteration : {}\".format(optimal_parameters[0],optimal_parameters[1]))\n",
    "\n",
    "    opt_NN = MLPRegressor(hidden_layer_sizes=grid_clf.best_params_['hidden_layer_sizes'],\n",
    "                          max_iter=grid_clf.best_params_['max_iter'])\n",
    "    opt_NN.fit(X=train_x, y=train_y)\n",
    "\n",
    "    return opt_NN"
   ]
  },
  {
   "cell_type": "code",
   "execution_count": 11,
   "metadata": {},
   "outputs": [
    {
     "name": "stdout",
     "output_type": "stream",
     "text": [
      "{'hidden_layer_sizes': 10, 'max_iter': 300}\n",
      "The optimal number of hidden nodes : 10\n",
      "& max iteration : 300\n"
     ]
    }
   ],
   "source": [
    "mor_optNNR=NN_CV_regresser(train_x=mor_train_x, train_y=mor_train_y,max_nodes=16, CV_N=3)\n",
    "mor_optNNR_pred = mor_optNNR.predict(X=mor_test_x)"
   ]
  },
  {
   "cell_type": "code",
   "execution_count": 12,
   "metadata": {},
   "outputs": [
    {
     "name": "stdout",
     "output_type": "stream",
     "text": [
      "==== mortgage - NN regression ================\n",
      "MAPE:9.051088545619436\n",
      "==============================================\n"
     ]
    }
   ],
   "source": [
    "mor_nnr_mape = mean_absolute_percentage_error(mor_test_y,mor_optNNR_pred)\n",
    "mor_nnr_rmse = np.sqrt(mean_squared_error(y_true=mor_test_y, y_pred=mor_optNNR_pred))\n",
    "\n",
    "print('==== mortgage - NN regression ================')\n",
    "print('MAPE:{}'.format(mor_nnr_mape))\n",
    "print('==============================================')\n"
   ]
  },
  {
   "cell_type": "markdown",
   "metadata": {},
   "source": [
    "---"
   ]
  },
  {
   "cell_type": "markdown",
   "metadata": {},
   "source": [
    "### Kernel SVR"
   ]
  },
  {
   "cell_type": "code",
   "execution_count": 14,
   "metadata": {},
   "outputs": [],
   "source": [
    "def CV_SVR_classifier(train_x, train_y,CV_n):\n",
    "    parameters =  {'C':[0.01,0.05,0.1,1,5,10,],'gamma':[0.01,0.02,0.08,0.1,1], 'epsilon':[0.01,0.1,1]}\n",
    "    print(\"매개변수 그리드:\\n{}\".format(parameters))\n",
    " \n",
    "    # RBF SVR instance 생성\n",
    "    clf = SVR(kernel='rbf')\n",
    "\n",
    "    # Grid RBF SVR instance 생성\n",
    "    grid_clf = GridSearchCV(clf, parameters, cv=CV_n)\n",
    "    \n",
    "    # cross-validation\n",
    "    grid_clf.fit(train_x,train_y)\n",
    "\n",
    "    print(grid_clf.best_params_)\n",
    "    \n",
    "\n",
    "    print(\"The optimal 'C' : {}\\nThe optimal 'epsilon' : {}\\nThe optimal 'Gamma' : {}\".format(grid_clf.best_params_['C'],\n",
    "                                                                                              grid_clf.best_params_['epsilon'],\n",
    "                                                                                              grid_clf.best_params_['gamma']))\n",
    "    # using best params\n",
    "    opt_SVR = SVR(C=grid_clf.best_params_['C'],\n",
    "                  epsilon=grid_clf.best_params_['epsilon'],\n",
    "                  gamma=grid_clf.best_params_['gamma'])\n",
    "    opt_SVR.fit(X=train_x, y=train_y)\n",
    "    \n",
    "    return opt_SVR"
   ]
  },
  {
   "cell_type": "code",
   "execution_count": 15,
   "metadata": {},
   "outputs": [
    {
     "name": "stdout",
     "output_type": "stream",
     "text": [
      "매개변수 그리드:\n",
      "{'C': [0.01, 0.05, 0.1, 1, 5, 10], 'gamma': [0.01, 0.02, 0.08, 0.1, 1], 'epsilon': [0.01, 0.1, 1]}\n",
      "{'C': 10, 'epsilon': 0.01, 'gamma': 0.1}\n",
      "The optimal 'C' : 10\n",
      "The optimal 'epsilon' : 0.01\n",
      "The optimal 'Gamma' : 0.1\n"
     ]
    },
    {
     "data": {
      "text/plain": [
       "SVR(C=10, epsilon=0.01, gamma=0.1)"
      ]
     },
     "execution_count": 15,
     "metadata": {},
     "output_type": "execute_result"
    }
   ],
   "source": [
    "mor_opt_SVR = CV_SVR_classifier(train_x=mor_train_x, train_y=mor_train_y,CV_n=10)\n",
    "mor_opt_SVR"
   ]
  },
  {
   "cell_type": "code",
   "execution_count": 15,
   "metadata": {},
   "outputs": [],
   "source": [
    "mor_opt_SVR_pred = mor_opt_SVR.predict(X=mor_test_x)"
   ]
  },
  {
   "cell_type": "code",
   "execution_count": 16,
   "metadata": {},
   "outputs": [
    {
     "name": "stdout",
     "output_type": "stream",
     "text": [
      "==== mortgage - SVM regression ================\n",
      "MAPE:0.6545\n",
      "===============================================\n"
     ]
    }
   ],
   "source": [
    "mor_svr_mape = mean_absolute_percentage_error(mor_test_y,mor_opt_SVR_pred)\n",
    "mor_svr_rmse = np.sqrt(mean_squared_error(y_true=mor_test_y, y_pred=mor_opt_SVR_pred))\n",
    "\n",
    "print('==== mortgage - SVM regression ================')\n",
    "print('MAPE:{}'.format(round(mor_svr_mape,4)))\n",
    "print('===============================================')\n"
   ]
  },
  {
   "cell_type": "markdown",
   "metadata": {},
   "source": [
    "---"
   ]
  },
  {
   "cell_type": "markdown",
   "metadata": {},
   "source": [
    "\n",
    "- **세가지 모델('MLR', 'ANN', 'SVR')의 예측 성능 비교**\n",
    "\n"
   ]
  },
  {
   "cell_type": "code",
   "execution_count": 17,
   "metadata": {},
   "outputs": [
    {
     "data": {
      "text/html": [
       "<div>\n",
       "<style scoped>\n",
       "    .dataframe tbody tr th:only-of-type {\n",
       "        vertical-align: middle;\n",
       "    }\n",
       "\n",
       "    .dataframe tbody tr th {\n",
       "        vertical-align: top;\n",
       "    }\n",
       "\n",
       "    .dataframe thead th {\n",
       "        text-align: right;\n",
       "    }\n",
       "</style>\n",
       "<table border=\"1\" class=\"dataframe\">\n",
       "  <thead>\n",
       "    <tr style=\"text-align: right;\">\n",
       "      <th></th>\n",
       "      <th>RMSE</th>\n",
       "      <th>MAPE</th>\n",
       "    </tr>\n",
       "  </thead>\n",
       "  <tbody>\n",
       "    <tr>\n",
       "      <th>L_reg</th>\n",
       "      <td>0.114446</td>\n",
       "      <td>1.153271</td>\n",
       "    </tr>\n",
       "    <tr>\n",
       "      <th>NN</th>\n",
       "      <td>0.520955</td>\n",
       "      <td>6.848234</td>\n",
       "    </tr>\n",
       "    <tr>\n",
       "      <th>SVR</th>\n",
       "      <td>0.073614</td>\n",
       "      <td>0.654490</td>\n",
       "    </tr>\n",
       "  </tbody>\n",
       "</table>\n",
       "</div>"
      ],
      "text/plain": [
       "           RMSE      MAPE\n",
       "L_reg  0.114446  1.153271\n",
       "NN     0.520955  6.848234\n",
       "SVR    0.073614  0.654490"
      ]
     },
     "execution_count": 17,
     "metadata": {},
     "output_type": "execute_result"
    }
   ],
   "source": [
    "pd.DataFrame([[mor_regression_rmse, mor_regression_mape],\n",
    " [mor_nnr_rmse,mor_nnr_mape],\n",
    " [mor_svr_rmse,mor_svr_mape]], index=['L_reg','NN','SVR'], columns=['RMSE','MAPE'])"
   ]
  }
 ],
 "metadata": {
  "kernelspec": {
   "display_name": "lab",
   "language": "python",
   "name": "lab"
  },
  "language_info": {
   "codemirror_mode": {
    "name": "ipython",
    "version": 3
   },
   "file_extension": ".py",
   "mimetype": "text/x-python",
   "name": "python",
   "nbconvert_exporter": "python",
   "pygments_lexer": "ipython3",
   "version": "3.6.10"
  }
 },
 "nbformat": 4,
 "nbformat_minor": 4
}
