{
 "cells": [
  {
   "cell_type": "markdown",
   "metadata": {},
   "source": [
    "# __[ 패스트캠퍼스] Density-based Methods__"
   ]
  },
  {
   "cell_type": "markdown",
   "metadata": {},
   "source": [
    "# <br>__1. Data: NASA Bearing Dataset__"
   ]
  },
  {
   "cell_type": "markdown",
   "metadata": {},
   "source": [
    "- 데이터 description <br>\n",
    "    - NASA Bearing Dataset은 NSF I/UCR Center의 Intelligent Maintenance System의 4개의 bearing에서 고장이 발생할 때까지 10분 단위로 수집된 센서 데이터이다. 본 데이터셋은 특정 구간에서 기록된 1-second vibration signal snapshots을 나타내는 여러 개의 파일로 구성되어 있다. 각 파일은 20 kHz 단위로 샘플링 된 20,480개의 data point를 포함하고 있으며, 각 파일의 이름은 데이터가 수집된 시간을 의미한다. 해당 데이터셋은 크게 3개의 데이터를 포함하고 있으며, 본 실습에서 사용하는 데이터는 bearing 1에서 outer race failure가 발생할 때까지 수집된 센서 데이터이다. <br><br>\n",
    "- 변수 설명\n",
    "    - 독립 변수 (4개): Bearing1, Bearing2, Bearing3, Bearing4 <br><br>\n",
    "- 출처: https://ti.arc.nasa.gov/tech/dash/groups/pcoe/prognostic-data-repository/\n"
   ]
  },
  {
   "cell_type": "markdown",
   "metadata": {},
   "source": [
    "<img src=\"https://i.imgur.com/dfFzn3H.jpg\" width=\"600\">"
   ]
  },
  {
   "cell_type": "code",
   "execution_count": 1,
   "metadata": {},
   "outputs": [],
   "source": [
    "import os\n",
    "import pandas as pd\n",
    "import numpy as np\n",
    "import matplotlib.pyplot as plt"
   ]
  },
  {
   "cell_type": "markdown",
   "metadata": {},
   "source": [
    "### Step1. 데이터 병합"
   ]
  },
  {
   "cell_type": "code",
   "execution_count": 2,
   "metadata": {},
   "outputs": [],
   "source": [
    "# 데이터 로드 및 병합\n",
    "# './data/raw_data' 폴더에 있는 txt 파일 각각에 대하여 순차적으로 파일을 불러온 후, 변수별 절댓값 평균을 축적하여 데이터를 구축\n",
    "data_root_dir = './data/raw_data'\n",
    "merged_data = pd.DataFrame()\n",
    "\n",
    "for filename in os.listdir(data_root_dir):\n",
    "    # 데이터 불러오기\n",
    "    data = pd.read_csv(os.path.join(data_root_dir, filename), sep='\\t')\n",
    "    \n",
    "    # 변수별 절댓값 평균 계산\n",
    "    data_mean_abs = np.array(data.abs().mean())\n",
    "    data_mean_abs = pd.DataFrame(data_mean_abs.reshape(1,4))\n",
    "    data_mean_abs.index = [filename]\n",
    "    \n",
    "    # 데이터 축적 -> 한 개의 txt 파일에 대하여 4개의 변수 값을 도출\n",
    "    merged_data = merged_data.append(data_mean_abs)"
   ]
  },
  {
   "cell_type": "code",
   "execution_count": 3,
   "metadata": {},
   "outputs": [
    {
     "data": {
      "text/html": [
       "<div>\n",
       "<style scoped>\n",
       "    .dataframe tbody tr th:only-of-type {\n",
       "        vertical-align: middle;\n",
       "    }\n",
       "\n",
       "    .dataframe tbody tr th {\n",
       "        vertical-align: top;\n",
       "    }\n",
       "\n",
       "    .dataframe thead th {\n",
       "        text-align: right;\n",
       "    }\n",
       "</style>\n",
       "<table border=\"1\" class=\"dataframe\">\n",
       "  <thead>\n",
       "    <tr style=\"text-align: right;\">\n",
       "      <th></th>\n",
       "      <th>Bearing 1</th>\n",
       "      <th>Bearing 2</th>\n",
       "      <th>Bearing 3</th>\n",
       "      <th>Bearing 4</th>\n",
       "    </tr>\n",
       "  </thead>\n",
       "  <tbody>\n",
       "    <tr>\n",
       "      <th>2004-02-12 10:32:39</th>\n",
       "      <td>0.058333</td>\n",
       "      <td>0.071832</td>\n",
       "      <td>0.083242</td>\n",
       "      <td>0.043067</td>\n",
       "    </tr>\n",
       "    <tr>\n",
       "      <th>2004-02-12 10:42:39</th>\n",
       "      <td>0.058995</td>\n",
       "      <td>0.074006</td>\n",
       "      <td>0.084435</td>\n",
       "      <td>0.044541</td>\n",
       "    </tr>\n",
       "    <tr>\n",
       "      <th>2004-02-12 10:52:39</th>\n",
       "      <td>0.060236</td>\n",
       "      <td>0.074227</td>\n",
       "      <td>0.083926</td>\n",
       "      <td>0.044443</td>\n",
       "    </tr>\n",
       "    <tr>\n",
       "      <th>2004-02-12 11:02:39</th>\n",
       "      <td>0.061455</td>\n",
       "      <td>0.073844</td>\n",
       "      <td>0.084457</td>\n",
       "      <td>0.045081</td>\n",
       "    </tr>\n",
       "    <tr>\n",
       "      <th>2004-02-12 11:12:39</th>\n",
       "      <td>0.061361</td>\n",
       "      <td>0.075609</td>\n",
       "      <td>0.082837</td>\n",
       "      <td>0.045118</td>\n",
       "    </tr>\n",
       "  </tbody>\n",
       "</table>\n",
       "</div>"
      ],
      "text/plain": [
       "                     Bearing 1  Bearing 2  Bearing 3  Bearing 4\n",
       "2004-02-12 10:32:39   0.058333   0.071832   0.083242   0.043067\n",
       "2004-02-12 10:42:39   0.058995   0.074006   0.084435   0.044541\n",
       "2004-02-12 10:52:39   0.060236   0.074227   0.083926   0.044443\n",
       "2004-02-12 11:02:39   0.061455   0.073844   0.084457   0.045081\n",
       "2004-02-12 11:12:39   0.061361   0.075609   0.082837   0.045118"
      ]
     },
     "execution_count": 3,
     "metadata": {},
     "output_type": "execute_result"
    }
   ],
   "source": [
    "# merged data index 및 column 설정\n",
    "merged_data.columns = ['Bearing 1', 'Bearing 2', 'Bearing 3', 'Bearing 4']\n",
    "merged_data.index = pd.to_datetime(merged_data.index, format='%Y.%m.%d.%H.%M.%S')\n",
    "merged_data = merged_data.sort_index()\n",
    "merged_data.head()"
   ]
  },
  {
   "cell_type": "code",
   "execution_count": 4,
   "metadata": {},
   "outputs": [
    {
     "data": {
      "text/html": [
       "<div>\n",
       "<style scoped>\n",
       "    .dataframe tbody tr th:only-of-type {\n",
       "        vertical-align: middle;\n",
       "    }\n",
       "\n",
       "    .dataframe tbody tr th {\n",
       "        vertical-align: top;\n",
       "    }\n",
       "\n",
       "    .dataframe thead th {\n",
       "        text-align: right;\n",
       "    }\n",
       "</style>\n",
       "<table border=\"1\" class=\"dataframe\">\n",
       "  <thead>\n",
       "    <tr style=\"text-align: right;\">\n",
       "      <th></th>\n",
       "      <th>Bearing 1</th>\n",
       "      <th>Bearing 2</th>\n",
       "      <th>Bearing 3</th>\n",
       "      <th>Bearing 4</th>\n",
       "      <th>anomaly</th>\n",
       "      <th>data_type</th>\n",
       "    </tr>\n",
       "  </thead>\n",
       "  <tbody>\n",
       "    <tr>\n",
       "      <th>2004-02-12 10:32:39</th>\n",
       "      <td>0.058333</td>\n",
       "      <td>0.071832</td>\n",
       "      <td>0.083242</td>\n",
       "      <td>0.043067</td>\n",
       "      <td>False</td>\n",
       "      <td>train</td>\n",
       "    </tr>\n",
       "    <tr>\n",
       "      <th>2004-02-12 10:42:39</th>\n",
       "      <td>0.058995</td>\n",
       "      <td>0.074006</td>\n",
       "      <td>0.084435</td>\n",
       "      <td>0.044541</td>\n",
       "      <td>False</td>\n",
       "      <td>train</td>\n",
       "    </tr>\n",
       "    <tr>\n",
       "      <th>2004-02-12 10:52:39</th>\n",
       "      <td>0.060236</td>\n",
       "      <td>0.074227</td>\n",
       "      <td>0.083926</td>\n",
       "      <td>0.044443</td>\n",
       "      <td>False</td>\n",
       "      <td>train</td>\n",
       "    </tr>\n",
       "    <tr>\n",
       "      <th>2004-02-12 11:02:39</th>\n",
       "      <td>0.061455</td>\n",
       "      <td>0.073844</td>\n",
       "      <td>0.084457</td>\n",
       "      <td>0.045081</td>\n",
       "      <td>False</td>\n",
       "      <td>train</td>\n",
       "    </tr>\n",
       "    <tr>\n",
       "      <th>2004-02-12 11:12:39</th>\n",
       "      <td>0.061361</td>\n",
       "      <td>0.075609</td>\n",
       "      <td>0.082837</td>\n",
       "      <td>0.045118</td>\n",
       "      <td>False</td>\n",
       "      <td>train</td>\n",
       "    </tr>\n",
       "  </tbody>\n",
       "</table>\n",
       "</div>"
      ],
      "text/plain": [
       "                     Bearing 1  Bearing 2  Bearing 3  Bearing 4  anomaly  \\\n",
       "2004-02-12 10:32:39   0.058333   0.071832   0.083242   0.043067    False   \n",
       "2004-02-12 10:42:39   0.058995   0.074006   0.084435   0.044541    False   \n",
       "2004-02-12 10:52:39   0.060236   0.074227   0.083926   0.044443    False   \n",
       "2004-02-12 11:02:39   0.061455   0.073844   0.084457   0.045081    False   \n",
       "2004-02-12 11:12:39   0.061361   0.075609   0.082837   0.045118    False   \n",
       "\n",
       "                    data_type  \n",
       "2004-02-12 10:32:39     train  \n",
       "2004-02-12 10:42:39     train  \n",
       "2004-02-12 10:52:39     train  \n",
       "2004-02-12 11:02:39     train  \n",
       "2004-02-12 11:12:39     train  "
      ]
     },
     "execution_count": 4,
     "metadata": {},
     "output_type": "execute_result"
    }
   ],
   "source": [
    "# 데이터 불러오기\n",
    "merged_data = pd.read_csv('./data/merged_dataset.csv', index_col=0)\n",
    "merged_data.index = pd.to_datetime(merged_data.index)\n",
    "merged_data.head()"
   ]
  },
  {
   "cell_type": "code",
   "execution_count": 5,
   "metadata": {},
   "outputs": [
    {
     "data": {
      "text/plain": [
       "<matplotlib.lines.Line2D at 0x904fef8>"
      ]
     },
     "execution_count": 5,
     "metadata": {},
     "output_type": "execute_result"
    },
    {
     "data": {
      "image/png": "[encoded data removed]",
      "text/plain": [
       "<Figure size 864x432 with 1 Axes>"
      ]
     },
     "metadata": {
      "needs_background": "light"
     },
     "output_type": "display_data"
    }
   ],
   "source": [
    "# 전체 기간의 데이터 분포 확인\n",
    "merged_data.plot(figsize = (12, 6))\n",
    "plt.axvline(merged_data.index[int(len(merged_data) * 0.5)], c='black')\n",
    "plt.axvline(merged_data.index[int(len(merged_data) * 0.7)], c='black')"
   ]
  },
  {
   "cell_type": "code",
   "execution_count": 6,
   "metadata": {},
   "outputs": [],
   "source": [
    "# normal/abnormal labeling\n",
    "# 모델의 성능을 평가하기 위해 데이터 분포의 변화가 큰 후반부 30%를 고장으로 labeling\n",
    "num_normal = int(len(merged_data) * 0.7)\n",
    "num_abnormal = len(merged_data) - num_normal\n",
    "\n",
    "merged_data['anomaly'] = [False] * num_normal + [True] * num_abnormal"
   ]
  },
  {
   "cell_type": "code",
   "execution_count": 7,
   "metadata": {},
   "outputs": [
    {
     "data": {
      "text/html": [
       "<div>\n",
       "<style scoped>\n",
       "    .dataframe tbody tr th:only-of-type {\n",
       "        vertical-align: middle;\n",
       "    }\n",
       "\n",
       "    .dataframe tbody tr th {\n",
       "        vertical-align: top;\n",
       "    }\n",
       "\n",
       "    .dataframe thead th {\n",
       "        text-align: right;\n",
       "    }\n",
       "</style>\n",
       "<table border=\"1\" class=\"dataframe\">\n",
       "  <thead>\n",
       "    <tr style=\"text-align: right;\">\n",
       "      <th></th>\n",
       "      <th>Bearing 1</th>\n",
       "      <th>Bearing 2</th>\n",
       "      <th>Bearing 3</th>\n",
       "      <th>Bearing 4</th>\n",
       "      <th>anomaly</th>\n",
       "      <th>data_type</th>\n",
       "    </tr>\n",
       "  </thead>\n",
       "  <tbody>\n",
       "    <tr>\n",
       "      <th>2004-02-12 10:32:39</th>\n",
       "      <td>0.058333</td>\n",
       "      <td>0.071832</td>\n",
       "      <td>0.083242</td>\n",
       "      <td>0.043067</td>\n",
       "      <td>False</td>\n",
       "      <td>train</td>\n",
       "    </tr>\n",
       "    <tr>\n",
       "      <th>2004-02-12 10:42:39</th>\n",
       "      <td>0.058995</td>\n",
       "      <td>0.074006</td>\n",
       "      <td>0.084435</td>\n",
       "      <td>0.044541</td>\n",
       "      <td>False</td>\n",
       "      <td>train</td>\n",
       "    </tr>\n",
       "    <tr>\n",
       "      <th>2004-02-12 10:52:39</th>\n",
       "      <td>0.060236</td>\n",
       "      <td>0.074227</td>\n",
       "      <td>0.083926</td>\n",
       "      <td>0.044443</td>\n",
       "      <td>False</td>\n",
       "      <td>train</td>\n",
       "    </tr>\n",
       "    <tr>\n",
       "      <th>2004-02-12 11:02:39</th>\n",
       "      <td>0.061455</td>\n",
       "      <td>0.073844</td>\n",
       "      <td>0.084457</td>\n",
       "      <td>0.045081</td>\n",
       "      <td>False</td>\n",
       "      <td>train</td>\n",
       "    </tr>\n",
       "    <tr>\n",
       "      <th>2004-02-12 11:12:39</th>\n",
       "      <td>0.061361</td>\n",
       "      <td>0.075609</td>\n",
       "      <td>0.082837</td>\n",
       "      <td>0.045118</td>\n",
       "      <td>False</td>\n",
       "      <td>train</td>\n",
       "    </tr>\n",
       "  </tbody>\n",
       "</table>\n",
       "</div>"
      ],
      "text/plain": [
       "                     Bearing 1  Bearing 2  Bearing 3  Bearing 4  anomaly  \\\n",
       "2004-02-12 10:32:39   0.058333   0.071832   0.083242   0.043067    False   \n",
       "2004-02-12 10:42:39   0.058995   0.074006   0.084435   0.044541    False   \n",
       "2004-02-12 10:52:39   0.060236   0.074227   0.083926   0.044443    False   \n",
       "2004-02-12 11:02:39   0.061455   0.073844   0.084457   0.045081    False   \n",
       "2004-02-12 11:12:39   0.061361   0.075609   0.082837   0.045118    False   \n",
       "\n",
       "                    data_type  \n",
       "2004-02-12 10:32:39     train  \n",
       "2004-02-12 10:42:39     train  \n",
       "2004-02-12 10:52:39     train  \n",
       "2004-02-12 11:02:39     train  \n",
       "2004-02-12 11:12:39     train  "
      ]
     },
     "execution_count": 7,
     "metadata": {},
     "output_type": "execute_result"
    }
   ],
   "source": [
    "merged_data.head()"
   ]
  },
  {
   "cell_type": "markdown",
   "metadata": {},
   "source": [
    "### Step2. 데이터 Split"
   ]
  },
  {
   "cell_type": "code",
   "execution_count": 8,
   "metadata": {
    "scrolled": true
   },
   "outputs": [],
   "source": [
    "# train 및 test 데이터 분리\n",
    "# 데이터의 전반부 50%를 train 데이터로 사용\n",
    "num_train = int(len(merged_data) * 0.5)\n",
    "num_test = len(merged_data) - num_train\n",
    "\n",
    "merged_data['data_type'] = ['train'] * num_train + ['test'] * num_test"
   ]
  },
  {
   "cell_type": "code",
   "execution_count": 9,
   "metadata": {},
   "outputs": [
    {
     "data": {
      "text/html": [
       "<div>\n",
       "<style scoped>\n",
       "    .dataframe tbody tr th:only-of-type {\n",
       "        vertical-align: middle;\n",
       "    }\n",
       "\n",
       "    .dataframe tbody tr th {\n",
       "        vertical-align: top;\n",
       "    }\n",
       "\n",
       "    .dataframe thead th {\n",
       "        text-align: right;\n",
       "    }\n",
       "</style>\n",
       "<table border=\"1\" class=\"dataframe\">\n",
       "  <thead>\n",
       "    <tr style=\"text-align: right;\">\n",
       "      <th></th>\n",
       "      <th>Bearing 1</th>\n",
       "      <th>Bearing 2</th>\n",
       "      <th>Bearing 3</th>\n",
       "      <th>Bearing 4</th>\n",
       "      <th>anomaly</th>\n",
       "      <th>data_type</th>\n",
       "    </tr>\n",
       "  </thead>\n",
       "  <tbody>\n",
       "    <tr>\n",
       "      <th>2004-02-12 10:32:39</th>\n",
       "      <td>0.058333</td>\n",
       "      <td>0.071832</td>\n",
       "      <td>0.083242</td>\n",
       "      <td>0.043067</td>\n",
       "      <td>False</td>\n",
       "      <td>train</td>\n",
       "    </tr>\n",
       "    <tr>\n",
       "      <th>2004-02-12 10:42:39</th>\n",
       "      <td>0.058995</td>\n",
       "      <td>0.074006</td>\n",
       "      <td>0.084435</td>\n",
       "      <td>0.044541</td>\n",
       "      <td>False</td>\n",
       "      <td>train</td>\n",
       "    </tr>\n",
       "    <tr>\n",
       "      <th>2004-02-12 10:52:39</th>\n",
       "      <td>0.060236</td>\n",
       "      <td>0.074227</td>\n",
       "      <td>0.083926</td>\n",
       "      <td>0.044443</td>\n",
       "      <td>False</td>\n",
       "      <td>train</td>\n",
       "    </tr>\n",
       "    <tr>\n",
       "      <th>2004-02-12 11:02:39</th>\n",
       "      <td>0.061455</td>\n",
       "      <td>0.073844</td>\n",
       "      <td>0.084457</td>\n",
       "      <td>0.045081</td>\n",
       "      <td>False</td>\n",
       "      <td>train</td>\n",
       "    </tr>\n",
       "    <tr>\n",
       "      <th>2004-02-12 11:12:39</th>\n",
       "      <td>0.061361</td>\n",
       "      <td>0.075609</td>\n",
       "      <td>0.082837</td>\n",
       "      <td>0.045118</td>\n",
       "      <td>False</td>\n",
       "      <td>train</td>\n",
       "    </tr>\n",
       "  </tbody>\n",
       "</table>\n",
       "</div>"
      ],
      "text/plain": [
       "                     Bearing 1  Bearing 2  Bearing 3  Bearing 4  anomaly  \\\n",
       "2004-02-12 10:32:39   0.058333   0.071832   0.083242   0.043067    False   \n",
       "2004-02-12 10:42:39   0.058995   0.074006   0.084435   0.044541    False   \n",
       "2004-02-12 10:52:39   0.060236   0.074227   0.083926   0.044443    False   \n",
       "2004-02-12 11:02:39   0.061455   0.073844   0.084457   0.045081    False   \n",
       "2004-02-12 11:12:39   0.061361   0.075609   0.082837   0.045118    False   \n",
       "\n",
       "                    data_type  \n",
       "2004-02-12 10:32:39     train  \n",
       "2004-02-12 10:42:39     train  \n",
       "2004-02-12 10:52:39     train  \n",
       "2004-02-12 11:02:39     train  \n",
       "2004-02-12 11:12:39     train  "
      ]
     },
     "execution_count": 9,
     "metadata": {},
     "output_type": "execute_result"
    }
   ],
   "source": [
    "merged_data.head()"
   ]
  },
  {
   "cell_type": "code",
   "execution_count": 10,
   "metadata": {},
   "outputs": [],
   "source": [
    "# 데이터 저장\n",
    "merged_data.to_csv('./data/merged_dataset.csv')"
   ]
  },
  {
   "cell_type": "code",
   "execution_count": 5,
   "metadata": {},
   "outputs": [
    {
     "name": "stdout",
     "output_type": "stream",
     "text": [
      "Training data shape: (492, 4)\n",
      "Test data shape: (492, 4)\n"
     ]
    }
   ],
   "source": [
    "X_train = merged_data[merged_data['data_type'] == 'train'].iloc[:, :4]\n",
    "y_train = merged_data[merged_data['data_type'] == 'train'].iloc[:, -2].values\n",
    "\n",
    "X_test = merged_data[merged_data['data_type'] == 'test'].iloc[:, :4]\n",
    "y_test = merged_data[merged_data['data_type'] == 'test'].iloc[:, -2].values\n",
    "\n",
    "print(\"Training data shape:\", X_train.shape)\n",
    "print(\"Test data shape:\", X_test.shape)"
   ]
  },
  {
   "cell_type": "markdown",
   "metadata": {},
   "source": [
    "---"
   ]
  },
  {
   "cell_type": "markdown",
   "metadata": {},
   "source": [
    "# __<br> 2. 밀도 기반 이상치 탐지 기법: Gauss & MoG & Parzen Window__"
   ]
  },
  {
   "cell_type": "markdown",
   "metadata": {},
   "source": [
    "## 밀도 기반 이상치 탐지 기법의 목적\n",
    ">주어진 데이터를 바탕으로 각 객체들이 생성될 확률을 추정 <br>\n",
    ">새로운 데이터가 생성될 확률이 낮을 경우 이상치로 판단"
   ]
  },
  {
   "cell_type": "markdown",
   "metadata": {},
   "source": [
    "<img src=\"https://i.imgur.com/e9omVxY.jpg\" width=\"800\">"
   ]
  },
  {
   "cell_type": "markdown",
   "metadata": {},
   "source": [
    "# __2-1. Gaussian Density Estimation__"
   ]
  },
  {
   "cell_type": "markdown",
   "metadata": {},
   "source": [
    "### Gaussian Density Estimation\n",
    ">모든 데이터가 하나의 가우시안(정규) 분포로부터 생성됨을 가정 <br>\n",
    ">학습: 주어진 정상 데이터들을 통해 가우시안 분포의 평균 벡터와 공분산 행렬을 추정 <br>\n",
    ">테스트: 새로운 데이터에 대하여 생성 확률을 구하고 이 확률이 낮을수록 이상치에 가까운 것으로 판정함"
   ]
  },
  {
   "cell_type": "code",
   "execution_count": 6,
   "metadata": {},
   "outputs": [],
   "source": [
    "import math\n",
    "import seaborn as sns\n",
    "from scipy.stats import multivariate_normal\n",
    "from sklearn.metrics import confusion_matrix\n",
    "from sklearn.metrics import f1_score"
   ]
  },
  {
   "cell_type": "markdown",
   "metadata": {},
   "source": [
    "### Step 1. Train 데이터 기반 분포 추정"
   ]
  },
  {
   "cell_type": "code",
   "execution_count": 7,
   "metadata": {},
   "outputs": [],
   "source": [
    "# 가우시안 분포 추정 함수\n",
    "def estimate_gaussian(dataset):\n",
    "    mu = np.mean(dataset, axis=0).values\n",
    "    sigma = np.cov(dataset.T)\n",
    "    return mu, sigma"
   ]
  },
  {
   "cell_type": "code",
   "execution_count": 8,
   "metadata": {},
   "outputs": [
    {
     "name": "stdout",
     "output_type": "stream",
     "text": [
      "Dimension of mu: (4,)\n",
      "Dimension of sigma: (4, 4)\n"
     ]
    }
   ],
   "source": [
    "mu, sigma = estimate_gaussian(X_train)\n",
    "\n",
    "print('Dimension of mu:', mu.shape)\n",
    "print('Dimension of sigma:', sigma.shape)"
   ]
  },
  {
   "cell_type": "markdown",
   "metadata": {},
   "source": [
    "### Step 2. 추정된 분포를 기반으로 train/test 데이터의 anomaly score 도출"
   ]
  },
  {
   "cell_type": "code",
   "execution_count": 9,
   "metadata": {},
   "outputs": [],
   "source": [
    "# 다변량 가우시안 분포에서 -logpdf를 반환하는 함수\n",
    "def multivariate_gaussian(dataset, mu, sigma):\n",
    "    p = multivariate_normal(mean=mu, cov=sigma)\n",
    "    return - 1.0 * p.logpdf(dataset)"
   ]
  },
  {
   "cell_type": "code",
   "execution_count": 10,
   "metadata": {},
   "outputs": [],
   "source": [
    "# train/test 데이터의 -logpdf 값 도출\n",
    "gauss_train = multivariate_gaussian(X_train, mu, sigma)\n",
    "gauss_test = multivariate_gaussian(X_test, mu, sigma)"
   ]
  },
  {
   "cell_type": "code",
   "execution_count": 17,
   "metadata": {},
   "outputs": [
    {
     "data": {
      "text/plain": [
       "Text(0.5, 1.0, 'Test Data')"
      ]
     },
     "execution_count": 17,
     "metadata": {},
     "output_type": "execute_result"
    },
    {
     "data": {
      "image/png": "[encoded data removed]",
      "text/plain": [
       "<Figure size 576x576 with 2 Axes>"
      ]
     },
     "metadata": {
      "needs_background": "light"
     },
     "output_type": "display_data"
    }
   ],
   "source": [
    "# train/test 데이터의 anomaly score 분포 시각화\n",
    "fig, (ax1, ax2) = plt.subplots(nrows=2, ncols=1, figsize = (8, 8))\n",
    "\n",
    "sns.distplot(gauss_train, bins=100, color='blue', ax=ax1)\n",
    "sns.distplot(gauss_test, bins=100, color='red', ax=ax2)\n",
    "ax1.set_title(\"Train Data\")\n",
    "ax2.set_title(\"Test Data\")"
   ]
  },
  {
   "cell_type": "markdown",
   "metadata": {},
   "source": [
    "### Step 3. Threshold 탐색"
   ]
  },
  {
   "cell_type": "code",
   "execution_count": 11,
   "metadata": {},
   "outputs": [],
   "source": [
    "# threshold 탐색\n",
    "# score의 min ~ max 범위를 num_step개로 균등 분할한 threshold에 대하여 best threshold 탐색 \n",
    "def search_best_threshold(score, y_true, num_step):\n",
    "    best_f1 = 0.5\n",
    "    best_threshold = None\n",
    "    for threshold in np.linspace(min(score), max(score), num_step):\n",
    "        y_pred = threshold < score\n",
    "\n",
    "        f1 = f1_score(y_true, y_pred)\n",
    "        if f1 > best_f1:\n",
    "            best_f1 = f1\n",
    "            best_threshold = threshold\n",
    "\n",
    "    print('Best threshold: ', round(best_threshold, 4))\n",
    "    print('Best F1 Score:', round(best_f1, 4))\n",
    "    return best_threshold"
   ]
  },
  {
   "cell_type": "code",
   "execution_count": 12,
   "metadata": {},
   "outputs": [
    {
     "name": "stdout",
     "output_type": "stream",
     "text": [
      "Best threshold:  226.5447\n",
      "Best F1 Score: 0.925\n"
     ]
    }
   ],
   "source": [
    "# best threshold 도출\n",
    "gauss_best_threshold = search_best_threshold(gauss_test, y_test, num_step=1000)"
   ]
  },
  {
   "cell_type": "markdown",
   "metadata": {},
   "source": [
    "### Step 4. Best threshold를 기반으로 이상치 탐지 모형 평가"
   ]
  },
  {
   "cell_type": "code",
   "execution_count": 15,
   "metadata": {},
   "outputs": [
    {
     "data": {
      "text/html": [
       "<div>\n",
       "<style scoped>\n",
       "    .dataframe tbody tr th:only-of-type {\n",
       "        vertical-align: middle;\n",
       "    }\n",
       "\n",
       "    .dataframe tbody tr th {\n",
       "        vertical-align: top;\n",
       "    }\n",
       "\n",
       "    .dataframe thead th {\n",
       "        text-align: right;\n",
       "    }\n",
       "</style>\n",
       "<table border=\"1\" class=\"dataframe\">\n",
       "  <thead>\n",
       "    <tr style=\"text-align: right;\">\n",
       "      <th></th>\n",
       "      <th>score</th>\n",
       "      <th>anomaly</th>\n",
       "    </tr>\n",
       "  </thead>\n",
       "  <tbody>\n",
       "    <tr>\n",
       "      <th>2004-02-12 10:32:39</th>\n",
       "      <td>-2.232404</td>\n",
       "      <td>False</td>\n",
       "    </tr>\n",
       "    <tr>\n",
       "      <th>2004-02-12 10:42:39</th>\n",
       "      <td>-10.370993</td>\n",
       "      <td>False</td>\n",
       "    </tr>\n",
       "    <tr>\n",
       "      <th>2004-02-12 10:52:39</th>\n",
       "      <td>-16.055669</td>\n",
       "      <td>False</td>\n",
       "    </tr>\n",
       "    <tr>\n",
       "      <th>2004-02-12 11:02:39</th>\n",
       "      <td>-12.009868</td>\n",
       "      <td>False</td>\n",
       "    </tr>\n",
       "    <tr>\n",
       "      <th>2004-02-12 11:12:39</th>\n",
       "      <td>-20.159965</td>\n",
       "      <td>False</td>\n",
       "    </tr>\n",
       "  </tbody>\n",
       "</table>\n",
       "</div>"
      ],
      "text/plain": [
       "                         score  anomaly\n",
       "2004-02-12 10:32:39  -2.232404    False\n",
       "2004-02-12 10:42:39 -10.370993    False\n",
       "2004-02-12 10:52:39 -16.055669    False\n",
       "2004-02-12 11:02:39 -12.009868    False\n",
       "2004-02-12 11:12:39 -20.159965    False"
      ]
     },
     "execution_count": 15,
     "metadata": {},
     "output_type": "execute_result"
    }
   ],
   "source": [
    "# 최종 결과 도출\n",
    "gauss_scores = pd.DataFrame(index=merged_data.index)\n",
    "gauss_scores['score'] = list(np.hstack([gauss_train, gauss_test]))\n",
    "gauss_scores['anomaly'] = gauss_best_threshold < gauss_scores['score']\n",
    "gauss_scores.head()"
   ]
  },
  {
   "cell_type": "code",
   "execution_count": 16,
   "metadata": {},
   "outputs": [],
   "source": [
    "# anomaly score plot 도출\n",
    "def draw_plot(scores, threshold):\n",
    "    normal_scores = scores[scores['anomaly'] == False]\n",
    "    abnormal_scores = scores[scores['anomaly'] == True]\n",
    "\n",
    "    plt.figure(figsize = (12,5))\n",
    "    plt.scatter(normal_scores.index, normal_scores['score'], label='Normal', c='blue', s=3)\n",
    "    plt.scatter(abnormal_scores.index, abnormal_scores['score'], label='Abnormal', c='red', s=3)\n",
    "    \n",
    "    plt.axhline(threshold, c='green', alpha=0.7)\n",
    "    plt.axvline(merged_data.index[int(len(merged_data) * 0.5)], c='orange', ls='--')\n",
    "\n",
    "    plt.xlabel('Date')\n",
    "    plt.ylabel('Anomaly Score')\n",
    "    plt.legend()\n",
    "    \n",
    "    plt.show()"
   ]
  },
  {
   "cell_type": "code",
   "execution_count": 17,
   "metadata": {},
   "outputs": [
    {
     "data": {
      "image/png": "[encoded data removed]",
      "text/plain": [
       "<Figure size 864x360 with 1 Axes>"
      ]
     },
     "metadata": {
      "needs_background": "light"
     },
     "output_type": "display_data"
    }
   ],
   "source": [
    "# 전체 데이터의 anomaly score 확인\n",
    "draw_plot(gauss_scores, gauss_best_threshold)"
   ]
  },
  {
   "cell_type": "code",
   "execution_count": 18,
   "metadata": {
    "scrolled": true
   },
   "outputs": [],
   "source": [
    "# FRR, FAR, F1 score 도출\n",
    "def calculate_metric(y_true, y_pred):\n",
    "    cm = confusion_matrix(y_true, y_pred, labels=[True, False])\n",
    "    tp, fn, fp, tn = cm.ravel()\n",
    "    \n",
    "    frr = fp / (fp + tn)\n",
    "    far = fn / (fn + tp) \n",
    "    \n",
    "    f1 = f1_score(y_true, y_pred)\n",
    "    \n",
    "    return frr, far, f1"
   ]
  },
  {
   "cell_type": "code",
   "execution_count": 19,
   "metadata": {},
   "outputs": [
    {
     "name": "stdout",
     "output_type": "stream",
     "text": [
      "**  FRR: 0.2092  |  FAR: 0.0203  |  F1 Score: 0.925\n"
     ]
    }
   ],
   "source": [
    "# F1 Score: 0.9250\n",
    "frr, far, f1 = calculate_metric(y_test, gauss_scores['anomaly'].iloc[int(len(merged_data) * 0.5):])\n",
    "\n",
    "print(\"**  FRR: {}  |  FAR: {}  |  F1 Score: {}\".format(round(frr, 4), round(far, 4), round(f1, 4)))"
   ]
  },
  {
   "cell_type": "markdown",
   "metadata": {},
   "source": [
    "---"
   ]
  },
  {
   "cell_type": "markdown",
   "metadata": {},
   "source": [
    "# __<br> 2-2. Mixture of Gaussian (MoG) Density Estimation__"
   ]
  },
  {
   "cell_type": "markdown",
   "metadata": {},
   "source": [
    "### Mixture of Gaussian (MoG) Density Estimation\n",
    ">데이터가 **여러 개의 가우시안(정규) 분포의 혼합**으로 이루어져 있음을 허용하며, 여러 가우시안 분포들의 선형 결합으로 전체 데이터의 분포를 표현 <br>\n",
    ">학습: 주어진 정상 데이터들을 통해 여러 가우시안 분포의 평균 벡터와 공분산 행렬 및 선형 가중치를 추정 <br>\n",
    ">테스트: 새로운 데이터에 대하여 생성 확률을 구하고 이 확률이 낮을수록 이상치에 가까운 것으로 판정함"
   ]
  },
  {
   "cell_type": "code",
   "execution_count": 20,
   "metadata": {},
   "outputs": [],
   "source": [
    "from sklearn import mixture"
   ]
  },
  {
   "cell_type": "markdown",
   "metadata": {},
   "source": [
    "### Step 1. Train 데이터 기반 분포 추정"
   ]
  },
  {
   "cell_type": "markdown",
   "metadata": {},
   "source": [
    "- GaussianMixture 설명\n",
    "    - n_components: 가우시안 분포 개수. 디폴트 1\n",
    "    - covariance_type: 공분산 유형 ('full', 'tied', 'diag', 'spherical'). 디폴트 'full'\n",
    "    - max_iter: EM 알고리즘 수행 횟수. 디폴트 100"
   ]
  },
  {
   "cell_type": "code",
   "execution_count": 21,
   "metadata": {
    "scrolled": true
   },
   "outputs": [
    {
     "data": {
      "text/plain": [
       "GaussianMixture(n_components=3, random_state=42)"
      ]
     },
     "execution_count": 21,
     "metadata": {},
     "output_type": "execute_result"
    }
   ],
   "source": [
    "gm_model = mixture.GaussianMixture(n_components=3, random_state=42)\n",
    "gm_model.fit(X_train)"
   ]
  },
  {
   "cell_type": "code",
   "execution_count": 22,
   "metadata": {},
   "outputs": [
    {
     "data": {
      "text/plain": [
       "array([[0.0607431 , 0.07468003, 0.07765362, 0.04398523],\n",
       "       [0.06096392, 0.07524499, 0.08090746, 0.04416265],\n",
       "       [0.06086029, 0.07500918, 0.07853607, 0.04404562]])"
      ]
     },
     "execution_count": 22,
     "metadata": {},
     "output_type": "execute_result"
    }
   ],
   "source": [
    "# 추정된 혼합 가우시안 분포를 구성하는 각 가우시안 분포의 평균\n",
    "gm_model.means_"
   ]
  },
  {
   "cell_type": "code",
   "execution_count": 23,
   "metadata": {
    "scrolled": true
   },
   "outputs": [
    {
     "data": {
      "text/plain": [
       "array([[[ 1.58799572e-06,  1.81577457e-07,  2.71829042e-07,\n",
       "          1.07930755e-07],\n",
       "        [ 1.81577457e-07,  1.88551785e-06,  9.36420426e-07,\n",
       "          1.21736642e-07],\n",
       "        [ 2.71829042e-07,  9.36420426e-07,  3.57407575e-06,\n",
       "          1.47444415e-07],\n",
       "        [ 1.07930755e-07,  1.21736642e-07,  1.47444415e-07,\n",
       "          1.24807256e-06]],\n",
       "\n",
       "       [[ 1.93510930e-06,  4.58040923e-07,  4.83511719e-08,\n",
       "          1.76149019e-07],\n",
       "        [ 4.58040923e-07,  2.17586417e-06, -2.57499558e-07,\n",
       "          1.29916390e-07],\n",
       "        [ 4.83511719e-08, -2.57499558e-07,  6.13709347e-06,\n",
       "          2.18104112e-07],\n",
       "        [ 1.76149019e-07,  1.29916390e-07,  2.18104112e-07,\n",
       "          1.28266105e-06]],\n",
       "\n",
       "       [[ 1.63314512e-06,  2.33986902e-07,  4.94140832e-07,\n",
       "          1.24443192e-07],\n",
       "        [ 2.33986902e-07,  1.96329795e-06,  1.30323113e-06,\n",
       "          1.40391843e-07],\n",
       "        [ 4.94140832e-07,  1.30323113e-06,  5.01086703e-06,\n",
       "          2.33312285e-07],\n",
       "        [ 1.24443192e-07,  1.40391843e-07,  2.33312285e-07,\n",
       "          1.26176400e-06]]])"
      ]
     },
     "execution_count": 23,
     "metadata": {},
     "output_type": "execute_result"
    }
   ],
   "source": [
    "# 추정된 혼합 가우시안 분포를 구성하는 각 가우시안 분포의 공분산\n",
    "gm_model.covariances_"
   ]
  },
  {
   "cell_type": "code",
   "execution_count": 24,
   "metadata": {},
   "outputs": [
    {
     "data": {
      "text/plain": [
       "array([0.39781819, 0.07291664, 0.52926516])"
      ]
     },
     "execution_count": 24,
     "metadata": {},
     "output_type": "execute_result"
    }
   ],
   "source": [
    "# 추정된 혼합 가우시안 분포를 구성하는 각 가우시안 분포의 가중치\n",
    "gm_model.weights_"
   ]
  },
  {
   "cell_type": "markdown",
   "metadata": {},
   "source": [
    "### Step 2. 추정된 분포를 기반으로 train/test 데이터의 anomaly score 도출"
   ]
  },
  {
   "cell_type": "code",
   "execution_count": 25,
   "metadata": {
    "scrolled": true
   },
   "outputs": [],
   "source": [
    "# train/test 데이터의 -logpdf 도출\n",
    "gm_train = - 1.0 * gm_model.score_samples(X_train)\n",
    "gm_test = - 1.0 * gm_model.score_samples(X_test)"
   ]
  },
  {
   "cell_type": "code",
   "execution_count": 26,
   "metadata": {},
   "outputs": [
    {
     "name": "stderr",
     "output_type": "stream",
     "text": [
      "/home/donghwa/anaconda3/envs/lab/lib/python3.6/site-packages/seaborn/distributions.py:2551: FutureWarning: `distplot` is a deprecated function and will be removed in a future version. Please adapt your code to use either `displot` (a figure-level function with similar flexibility) or `histplot` (an axes-level function for histograms).\n",
      "  warnings.warn(msg, FutureWarning)\n",
      "/home/donghwa/anaconda3/envs/lab/lib/python3.6/site-packages/seaborn/distributions.py:2551: FutureWarning: `distplot` is a deprecated function and will be removed in a future version. Please adapt your code to use either `displot` (a figure-level function with similar flexibility) or `histplot` (an axes-level function for histograms).\n",
      "  warnings.warn(msg, FutureWarning)\n"
     ]
    },
    {
     "data": {
      "text/plain": [
       "Text(0.5, 1.0, 'Test Data')"
      ]
     },
     "execution_count": 26,
     "metadata": {},
     "output_type": "execute_result"
    },
    {
     "data": {
      "image/png": "[encoded data removed]",
      "text/plain": [
       "<Figure size 576x576 with 2 Axes>"
      ]
     },
     "metadata": {
      "needs_background": "light"
     },
     "output_type": "display_data"
    }
   ],
   "source": [
    "# train/test 데이터의 anomaly score 분포 시각화\n",
    "fig, (ax1, ax2) = plt.subplots(nrows=2, ncols=1, figsize = (8, 8))\n",
    "\n",
    "sns.distplot(gm_train, bins=100, kde=True, color='blue', ax=ax1)\n",
    "sns.distplot(gm_test, bins=100, kde=True, color='red', ax=ax2)\n",
    "ax1.set_title(\"Train Data\")\n",
    "ax2.set_title(\"Test Data\")"
   ]
  },
  {
   "cell_type": "markdown",
   "metadata": {},
   "source": [
    "### Step 3. Threshold 탐색"
   ]
  },
  {
   "cell_type": "code",
   "execution_count": 28,
   "metadata": {},
   "outputs": [
    {
     "name": "stdout",
     "output_type": "stream",
     "text": [
      "Best threshold:  58.7878\n",
      "Best F1 Score: 0.9268\n"
     ]
    }
   ],
   "source": [
    "# best threshold 도출\n",
    "gm_best_threshold = search_best_threshold(gm_test, y_test, num_step=1000)"
   ]
  },
  {
   "cell_type": "markdown",
   "metadata": {},
   "source": [
    "### Step 4. Best threshold를 기반으로 이상치 탐지 모형 평가"
   ]
  },
  {
   "cell_type": "code",
   "execution_count": 29,
   "metadata": {
    "scrolled": true
   },
   "outputs": [
    {
     "data": {
      "text/html": [
       "<div>\n",
       "<style scoped>\n",
       "    .dataframe tbody tr th:only-of-type {\n",
       "        vertical-align: middle;\n",
       "    }\n",
       "\n",
       "    .dataframe tbody tr th {\n",
       "        vertical-align: top;\n",
       "    }\n",
       "\n",
       "    .dataframe thead th {\n",
       "        text-align: right;\n",
       "    }\n",
       "</style>\n",
       "<table border=\"1\" class=\"dataframe\">\n",
       "  <thead>\n",
       "    <tr style=\"text-align: right;\">\n",
       "      <th></th>\n",
       "      <th>score</th>\n",
       "      <th>anomaly</th>\n",
       "    </tr>\n",
       "  </thead>\n",
       "  <tbody>\n",
       "    <tr>\n",
       "      <th>2004-02-12 10:32:39</th>\n",
       "      <td>-15.368591</td>\n",
       "      <td>False</td>\n",
       "    </tr>\n",
       "    <tr>\n",
       "      <th>2004-02-12 10:42:39</th>\n",
       "      <td>-17.475524</td>\n",
       "      <td>False</td>\n",
       "    </tr>\n",
       "    <tr>\n",
       "      <th>2004-02-12 10:52:39</th>\n",
       "      <td>-18.824166</td>\n",
       "      <td>False</td>\n",
       "    </tr>\n",
       "    <tr>\n",
       "      <th>2004-02-12 11:02:39</th>\n",
       "      <td>-17.964283</td>\n",
       "      <td>False</td>\n",
       "    </tr>\n",
       "    <tr>\n",
       "      <th>2004-02-12 11:12:39</th>\n",
       "      <td>-20.166698</td>\n",
       "      <td>False</td>\n",
       "    </tr>\n",
       "  </tbody>\n",
       "</table>\n",
       "</div>"
      ],
      "text/plain": [
       "                         score  anomaly\n",
       "2004-02-12 10:32:39 -15.368591    False\n",
       "2004-02-12 10:42:39 -17.475524    False\n",
       "2004-02-12 10:52:39 -18.824166    False\n",
       "2004-02-12 11:02:39 -17.964283    False\n",
       "2004-02-12 11:12:39 -20.166698    False"
      ]
     },
     "execution_count": 29,
     "metadata": {},
     "output_type": "execute_result"
    }
   ],
   "source": [
    "# 최종 결과 도출\n",
    "gm_scores = pd.DataFrame(index=merged_data.index)\n",
    "gm_scores['score'] = list(np.hstack([gm_train, gm_test]))\n",
    "gm_scores['anomaly'] = gm_best_threshold < gm_scores['score']\n",
    "gm_scores.head()"
   ]
  },
  {
   "cell_type": "code",
   "execution_count": 30,
   "metadata": {},
   "outputs": [
    {
     "data": {
      "image/png": "[encoded data removed]",
      "text/plain": [
       "<Figure size 864x360 with 1 Axes>"
      ]
     },
     "metadata": {
      "needs_background": "light"
     },
     "output_type": "display_data"
    }
   ],
   "source": [
    "# 전체 데이터의 anomaly score 확인\n",
    "draw_plot(gm_scores, gm_best_threshold)"
   ]
  },
  {
   "cell_type": "code",
   "execution_count": 31,
   "metadata": {},
   "outputs": [
    {
     "name": "stdout",
     "output_type": "stream",
     "text": [
      "**  FRR: 0.2092  |  FAR: 0.0169  |  F1 Score: 0.9268\n"
     ]
    }
   ],
   "source": [
    "# F1 Score: 0.9268\n",
    "frr, far, f1 = calculate_metric(y_test, gm_scores['anomaly'].iloc[int(len(merged_data) * 0.5):])\n",
    "\n",
    "print(\"**  FRR: {}  |  FAR: {}  |  F1 Score: {}\".format(round(frr, 4), round(far, 4), round(f1, 4)))"
   ]
  },
  {
   "cell_type": "markdown",
   "metadata": {},
   "source": [
    "---"
   ]
  },
  {
   "cell_type": "markdown",
   "metadata": {},
   "source": [
    "# __<br> 2-3. Parzen Window__"
   ]
  },
  {
   "cell_type": "markdown",
   "metadata": {},
   "source": [
    "### Kernel Density Estimation (Parzen Window)\n",
    ">데이터가 특정한 분포를 갖는다는 가정없이 주어진 데이터로부터 주변부의 밀도를 추정하는 방식"
   ]
  },
  {
   "cell_type": "code",
   "execution_count": 35,
   "metadata": {},
   "outputs": [],
   "source": [
    "from sklearn.neighbors import KernelDensity"
   ]
  },
  {
   "cell_type": "markdown",
   "metadata": {},
   "source": [
    "### Step 1. Train 데이터 기반 분포 추정"
   ]
  },
  {
   "cell_type": "markdown",
   "metadata": {},
   "source": [
    "- KernelDensity 설명\n",
    "    - kernel: 사용할 커널 종류 ('gaussian', 'tophat', 'epanechnikov', 'exponential', 'linear', 'cosine'). 디폴트 'gaussian'"
   ]
  },
  {
   "cell_type": "code",
   "execution_count": 36,
   "metadata": {},
   "outputs": [
    {
     "data": {
      "text/plain": [
       "KernelDensity(bandwidth=0.2)"
      ]
     },
     "execution_count": 36,
     "metadata": {},
     "output_type": "execute_result"
    }
   ],
   "source": [
    "kde_model = KernelDensity(kernel='gaussian', bandwidth=0.2)\n",
    "kde_model.fit(X_train)"
   ]
  },
  {
   "cell_type": "markdown",
   "metadata": {},
   "source": [
    "### Step 2. 추정된 분포를 기반으로 train/test 데이터의 anomaly score 도출"
   ]
  },
  {
   "cell_type": "code",
   "execution_count": 37,
   "metadata": {
    "scrolled": true
   },
   "outputs": [],
   "source": [
    "# train/test 데이터의 -logpdf 도출\n",
    "kde_train = - 1.0 * kde_model.score_samples(X_train)\n",
    "kde_test = - 1.0 * kde_model.score_samples(X_test)"
   ]
  },
  {
   "cell_type": "code",
   "execution_count": 38,
   "metadata": {
    "scrolled": true
   },
   "outputs": [
    {
     "data": {
      "text/plain": [
       "array([-2.76141686, -2.76140485, -2.76152183, -2.76142368, -2.76164582,\n",
       "       -2.76134797, -2.7616718 , -2.76174446, -2.76143151, -2.76143743,\n",
       "       -2.76169826, -2.76185811, -2.76184345, -2.76180793, -2.76183366,\n",
       "       -2.76181867, -2.76158304, -2.76186517, -2.76176856, -2.76177046,\n",
       "       -2.76180336, -2.76165762, -2.76173182, -2.76174023, -2.76150692,\n",
       "       -2.76169594, -2.761798  , -2.76173166, -2.76168918, -2.76184834,\n",
       "       -2.76178439, -2.7617193 , -2.76186599, -2.76169554, -2.76152065,\n",
       "       -2.76189243, -2.76171056, -2.76172669, -2.7617081 , -2.7617229 ,\n",
       "       -2.76168764, -2.76180229, -2.76189257, -2.76191472, -2.76172422,\n",
       "       -2.76180691, -2.76169252, -2.7616756 , -2.76177124, -2.7619033 ,\n",
       "       -2.76178355, -2.76184648, -2.76183301, -2.76184501, -2.7618081 ,\n",
       "       -2.76175604, -2.76186026, -2.76189335, -2.76188882, -2.76172735,\n",
       "       -2.76180633, -2.7617901 , -2.76176436, -2.76188524, -2.76185049,\n",
       "       -2.76189287, -2.76178678, -2.76184193, -2.76182831, -2.7618409 ,\n",
       "       -2.76186902, -2.76171773, -2.76183514, -2.76170511, -2.76169368,\n",
       "       -2.76190114, -2.76181513, -2.76185753, -2.76189149, -2.76169602,\n",
       "       -2.76182694, -2.76186639, -2.76188255, -2.76191314, -2.76188938,\n",
       "       -2.76191399, -2.76191336, -2.76187087, -2.76180393, -2.76176015,\n",
       "       -2.76186395, -2.761823  , -2.76177548, -2.76189014, -2.76181179,\n",
       "       -2.76189746, -2.76186662, -2.76187872, -2.76190681, -2.76188902,\n",
       "       -2.76190296, -2.76189741, -2.76187217, -2.76187813, -2.76190698,\n",
       "       -2.7618644 , -2.76191225, -2.76184484, -2.76190495, -2.76187956,\n",
       "       -2.76189194, -2.76189868, -2.76172244, -2.76189023, -2.7618948 ,\n",
       "       -2.76187751, -2.76181941, -2.76182939, -2.76182833, -2.76186462,\n",
       "       -2.7619009 , -2.76181441, -2.76182733, -2.76186995, -2.76189395,\n",
       "       -2.76186157, -2.76190389, -2.76190275, -2.76190061, -2.76188853,\n",
       "       -2.76179909, -2.76178132, -2.76190583, -2.76174048, -2.76185665,\n",
       "       -2.76182958, -2.76182186, -2.76187229, -2.76183665, -2.76185421,\n",
       "       -2.76190323, -2.76188244, -2.76187102, -2.76180359, -2.76184974,\n",
       "       -2.76166332, -2.76188484, -2.76187962, -2.76190764, -2.76187678,\n",
       "       -2.7618814 , -2.76185947, -2.76187962, -2.76182626, -2.7619136 ,\n",
       "       -2.76190622, -2.76172752, -2.76187533, -2.76189838, -2.76190639,\n",
       "       -2.76191069, -2.76185243, -2.76189828, -2.76181492, -2.76186793,\n",
       "       -2.76189702, -2.76188062, -2.76187566, -2.76189822, -2.76186323,\n",
       "       -2.76190234, -2.76190193, -2.76188813, -2.76188043, -2.76189139,\n",
       "       -2.76189503, -2.76189862, -2.76189896, -2.76188979, -2.76184915,\n",
       "       -2.76189481, -2.76188827, -2.76187058, -2.7619029 , -2.76187611,\n",
       "       -2.76190573, -2.76181879, -2.76185931, -2.76185885, -2.76190556,\n",
       "       -2.76186629, -2.76189972, -2.76188282, -2.76187673, -2.76186416,\n",
       "       -2.76189904, -2.76180997, -2.76186095, -2.76190406, -2.7619145 ,\n",
       "       -2.76186208, -2.76191654, -2.76188334, -2.76190008, -2.7619013 ,\n",
       "       -2.76188676, -2.76190207, -2.76189062, -2.76188542, -2.76182119,\n",
       "       -2.76187635, -2.76188874, -2.76189724, -2.76190576, -2.76182403,\n",
       "       -2.76191382, -2.7618963 , -2.76189436, -2.76190268, -2.76189862,\n",
       "       -2.76188251, -2.7619172 , -2.76190121, -2.76191361, -2.76191164,\n",
       "       -2.76191397, -2.76190668, -2.76190624, -2.7618964 , -2.76190802,\n",
       "       -2.76185017, -2.76189304, -2.76178736, -2.76189022, -2.76186408,\n",
       "       -2.76187385, -2.76189738, -2.76189675, -2.76191186, -2.76191162,\n",
       "       -2.76189825, -2.76189713, -2.76187007, -2.76182329, -2.76188374,\n",
       "       -2.76189203, -2.76185152, -2.76188852, -2.76182305, -2.76189379,\n",
       "       -2.76186146, -2.76187379, -2.76190865, -2.76191576, -2.76191724,\n",
       "       -2.76191171, -2.76189886, -2.76190276, -2.76184969, -2.76188566,\n",
       "       -2.76190931, -2.76189802, -2.76191304, -2.76188666, -2.76190445,\n",
       "       -2.76190283, -2.76187358, -2.76190899, -2.76189456, -2.76190823,\n",
       "       -2.76189662, -2.76190309, -2.76185325, -2.76189838, -2.76190957,\n",
       "       -2.7619025 , -2.761897  , -2.76184561, -2.7618658 , -2.76176744,\n",
       "       -2.7618878 , -2.76190537, -2.76184863, -2.76191147, -2.76189174,\n",
       "       -2.76182214, -2.76190272, -2.76185804, -2.76191153, -2.76183386,\n",
       "       -2.76186913, -2.76189487, -2.7618567 , -2.76180258, -2.76190557,\n",
       "       -2.76190397, -2.76189789, -2.76178526, -2.76190459, -2.76191408,\n",
       "       -2.76188371, -2.76189339, -2.76188388, -2.76190288, -2.76188961,\n",
       "       -2.76179954, -2.76184059, -2.76189339, -2.7618508 , -2.76179969,\n",
       "       -2.76189375, -2.76189137, -2.76169779, -2.76178348, -2.76189754,\n",
       "       -2.76188721, -2.7618595 , -2.76188883, -2.76189654, -2.76182071,\n",
       "       -2.76190579, -2.76187718, -2.76184479, -2.76187638, -2.76190004,\n",
       "       -2.76190334, -2.76185863, -2.76189347, -2.76191188, -2.76186339,\n",
       "       -2.76187645, -2.76190723, -2.76179869, -2.76176889, -2.76188047,\n",
       "       -2.76186416, -2.76184291, -2.76188231, -2.76190707, -2.76189182,\n",
       "       -2.76187033, -2.76181368, -2.76186797, -2.76191451, -2.76178801,\n",
       "       -2.76190886, -2.76191558, -2.76188631, -2.76181413, -2.76180318,\n",
       "       -2.76175815, -2.76188386, -2.76191956, -2.76185739, -2.76187354,\n",
       "       -2.76172632, -2.76190123, -2.76189149, -2.76189351, -2.7618546 ,\n",
       "       -2.76189254, -2.76169372, -2.76185983, -2.76189347, -2.76191395,\n",
       "       -2.76191097, -2.76187661, -2.76191278, -2.76181547, -2.7618561 ,\n",
       "       -2.76185971, -2.76169472, -2.76184   , -2.76186846, -2.76185201,\n",
       "       -2.76189664, -2.76184417, -2.76179486, -2.76178825, -2.76181295,\n",
       "       -2.76186102, -2.76188291, -2.76186361, -2.76190973, -2.76183312,\n",
       "       -2.76190272, -2.76188547, -2.76175193, -2.76184596, -2.76188718,\n",
       "       -2.76184235, -2.76188217, -2.7619107 , -2.76187863, -2.76187934,\n",
       "       -2.76188061, -2.76190352, -2.76186202, -2.7616107 , -2.76191026,\n",
       "       -2.76189216, -2.76174912, -2.76190249, -2.76152946, -2.76177244,\n",
       "       -2.76187788, -2.76182549, -2.76175846, -2.76189086, -2.76184303,\n",
       "       -2.76184655, -2.76187665, -2.76186219, -2.76170351, -2.76190362,\n",
       "       -2.76189441, -2.76187039, -2.76183484, -2.76184568, -2.76176304,\n",
       "       -2.76190487, -2.7618852 , -2.76187246, -2.76191697, -2.76182062,\n",
       "       -2.7619138 , -2.76186017, -2.76187715, -2.76183002, -2.76190421,\n",
       "       -2.76185487, -2.76185005, -2.76185765, -2.76175068, -2.76188518,\n",
       "       -2.76184406, -2.76189219, -2.76182839, -2.76176456, -2.76183475,\n",
       "       -2.76191223, -2.76182541, -2.76183077, -2.76191613, -2.76186893,\n",
       "       -2.76188351, -2.7618276 , -2.76185031, -2.76180061, -2.76186827,\n",
       "       -2.76189708, -2.76188989, -2.76188402, -2.7618941 , -2.76188152,\n",
       "       -2.76181254, -2.76173178, -2.7618532 , -2.76183762, -2.76188498,\n",
       "       -2.76185151, -2.76181749, -2.76191474, -2.761853  , -2.76185056,\n",
       "       -2.76173903, -2.76191032, -2.76181836, -2.76190333, -2.76177767,\n",
       "       -2.76191208, -2.76184084, -2.7618347 , -2.76177961, -2.76183482,\n",
       "       -2.76187289, -2.76189321, -2.76181091, -2.76188009, -2.76190386,\n",
       "       -2.76180575, -2.76187261, -2.76183045, -2.76182564, -2.76184577,\n",
       "       -2.76186864, -2.76180435, -2.76183169, -2.76189493, -2.7617345 ,\n",
       "       -2.7617609 , -2.76180825])"
      ]
     },
     "execution_count": 38,
     "metadata": {},
     "output_type": "execute_result"
    }
   ],
   "source": [
    "kde_train"
   ]
  },
  {
   "cell_type": "code",
   "execution_count": 39,
   "metadata": {},
   "outputs": [
    {
     "name": "stderr",
     "output_type": "stream",
     "text": [
      "/home/donghwa/anaconda3/envs/lab/lib/python3.6/site-packages/seaborn/distributions.py:2551: FutureWarning: `distplot` is a deprecated function and will be removed in a future version. Please adapt your code to use either `displot` (a figure-level function with similar flexibility) or `histplot` (an axes-level function for histograms).\n",
      "  warnings.warn(msg, FutureWarning)\n",
      "/home/donghwa/anaconda3/envs/lab/lib/python3.6/site-packages/seaborn/distributions.py:305: UserWarning: Dataset has 0 variance; skipping density estimate.\n",
      "  warnings.warn(msg, UserWarning)\n",
      "/home/donghwa/anaconda3/envs/lab/lib/python3.6/site-packages/seaborn/distributions.py:2551: FutureWarning: `distplot` is a deprecated function and will be removed in a future version. Please adapt your code to use either `displot` (a figure-level function with similar flexibility) or `histplot` (an axes-level function for histograms).\n",
      "  warnings.warn(msg, FutureWarning)\n"
     ]
    },
    {
     "data": {
      "text/plain": [
       "Text(0.5, 1.0, 'Test Data')"
      ]
     },
     "execution_count": 39,
     "metadata": {},
     "output_type": "execute_result"
    },
    {
     "data": {
      "image/png": "[encoded data removed]",
      "text/plain": [
       "<Figure size 576x576 with 2 Axes>"
      ]
     },
     "metadata": {
      "needs_background": "light"
     },
     "output_type": "display_data"
    }
   ],
   "source": [
    "# train/test 데이터의 anomaly score 분포 시각화\n",
    "fig, (ax1, ax2) = plt.subplots(nrows=2, ncols=1, figsize = (8, 8))\n",
    "\n",
    "sns.distplot(kde_train, bins=100, color='blue', ax=ax1)\n",
    "sns.distplot(kde_test, bins=100, color='red', ax=ax2)\n",
    "ax1.set_title(\"Train Data\")\n",
    "ax2.set_title(\"Test Data\")"
   ]
  },
  {
   "cell_type": "markdown",
   "metadata": {},
   "source": [
    "### Step 3. Threshold 탐색"
   ]
  },
  {
   "cell_type": "code",
   "execution_count": 40,
   "metadata": {},
   "outputs": [
    {
     "name": "stdout",
     "output_type": "stream",
     "text": [
      "Best threshold:  -2.7576\n",
      "Best F1 Score: 0.929\n"
     ]
    }
   ],
   "source": [
    "# best threshold 탐색\n",
    "kde_best_threshold = search_best_threshold(kde_test, y_test, num_step=1000)"
   ]
  },
  {
   "cell_type": "markdown",
   "metadata": {},
   "source": [
    "### Step 4. Best threshold를 기반으로 이상치 탐지 모형 평가"
   ]
  },
  {
   "cell_type": "code",
   "execution_count": 41,
   "metadata": {
    "scrolled": true
   },
   "outputs": [
    {
     "data": {
      "text/html": [
       "<div>\n",
       "<style scoped>\n",
       "    .dataframe tbody tr th:only-of-type {\n",
       "        vertical-align: middle;\n",
       "    }\n",
       "\n",
       "    .dataframe tbody tr th {\n",
       "        vertical-align: top;\n",
       "    }\n",
       "\n",
       "    .dataframe thead th {\n",
       "        text-align: right;\n",
       "    }\n",
       "</style>\n",
       "<table border=\"1\" class=\"dataframe\">\n",
       "  <thead>\n",
       "    <tr style=\"text-align: right;\">\n",
       "      <th></th>\n",
       "      <th>score</th>\n",
       "      <th>anomaly</th>\n",
       "    </tr>\n",
       "  </thead>\n",
       "  <tbody>\n",
       "    <tr>\n",
       "      <th>2004-02-12 10:32:39</th>\n",
       "      <td>-2.761417</td>\n",
       "      <td>False</td>\n",
       "    </tr>\n",
       "    <tr>\n",
       "      <th>2004-02-12 10:42:39</th>\n",
       "      <td>-2.761405</td>\n",
       "      <td>False</td>\n",
       "    </tr>\n",
       "    <tr>\n",
       "      <th>2004-02-12 10:52:39</th>\n",
       "      <td>-2.761522</td>\n",
       "      <td>False</td>\n",
       "    </tr>\n",
       "    <tr>\n",
       "      <th>2004-02-12 11:02:39</th>\n",
       "      <td>-2.761424</td>\n",
       "      <td>False</td>\n",
       "    </tr>\n",
       "    <tr>\n",
       "      <th>2004-02-12 11:12:39</th>\n",
       "      <td>-2.761646</td>\n",
       "      <td>False</td>\n",
       "    </tr>\n",
       "  </tbody>\n",
       "</table>\n",
       "</div>"
      ],
      "text/plain": [
       "                        score  anomaly\n",
       "2004-02-12 10:32:39 -2.761417    False\n",
       "2004-02-12 10:42:39 -2.761405    False\n",
       "2004-02-12 10:52:39 -2.761522    False\n",
       "2004-02-12 11:02:39 -2.761424    False\n",
       "2004-02-12 11:12:39 -2.761646    False"
      ]
     },
     "execution_count": 41,
     "metadata": {},
     "output_type": "execute_result"
    }
   ],
   "source": [
    "# 최종 결과 도출\n",
    "kde_scores = pd.DataFrame(index=merged_data.index)\n",
    "kde_scores['score'] = list(np.hstack([kde_train, kde_test]))\n",
    "kde_scores['anomaly'] = kde_best_threshold < kde_scores['score']\n",
    "kde_scores.head()"
   ]
  },
  {
   "cell_type": "code",
   "execution_count": 42,
   "metadata": {},
   "outputs": [
    {
     "data": {
      "image/png": "[encoded data removed]",
      "text/plain": [
       "<Figure size 864x360 with 1 Axes>"
      ]
     },
     "metadata": {
      "needs_background": "light"
     },
     "output_type": "display_data"
    }
   ],
   "source": [
    "# 전체 데이터의 anomaly score 확인\n",
    "draw_plot(kde_scores, kde_best_threshold)"
   ]
  },
  {
   "cell_type": "code",
   "execution_count": 44,
   "metadata": {},
   "outputs": [
    {
     "name": "stdout",
     "output_type": "stream",
     "text": [
      "**  FRR: 0.1837  |  FAR: 0.027  |  F1 Score: 0.929\n"
     ]
    }
   ],
   "source": [
    "# F1 Score: 0.9290\n",
    "frr, far, f1 = calculate_metric(y_test, kde_scores['anomaly'].iloc[int(len(merged_data) * 0.5):])\n",
    "\n",
    "print(\"**  FRR: {}  |  FAR: {}  |  F1 Score: {}\".format(round(frr, 4), round(far, 4), round(f1, 4)))"
   ]
  },
  {
   "cell_type": "markdown",
   "metadata": {},
   "source": [
    "---"
   ]
  }
 ],
 "metadata": {
  "kernelspec": {
   "display_name": "lab",
   "language": "python",
   "name": "lab"
  },
  "language_info": {
   "codemirror_mode": {
    "name": "ipython",
    "version": 3
   },
   "file_extension": ".py",
   "mimetype": "text/x-python",
   "name": "python",
   "nbconvert_exporter": "python",
   "pygments_lexer": "ipython3",
   "version": "3.6.10"
  }
 },
 "nbformat": 4,
 "nbformat_minor": 4
}
