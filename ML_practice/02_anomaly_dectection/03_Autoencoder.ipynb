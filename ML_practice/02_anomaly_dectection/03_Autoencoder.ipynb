{
 "cells": [
  {
   "cell_type": "markdown",
   "metadata": {},
   "source": [
    "# __[ 패스트캠퍼스] Model-based Methods__"
   ]
  },
  {
   "cell_type": "markdown",
   "metadata": {},
   "source": [
    "# <br>__1. Data: NASA Bearing Dataset__"
   ]
  },
  {
   "cell_type": "markdown",
   "metadata": {},
   "source": [
    "- 데이터 description <br>\n",
    "    - NASA Bearing Dataset은 NSF I/UCR Center의 Intelligent Maintenance System의 4개의 bearing에서 고장이 발생할 때까지 10분 단위로 수집된 센서 데이터이다. 본 데이터셋은 특정 구간에서 기록된 1-second vibration signal snapshots을 나타내는 여러 개의 파일로 구성되어 있다. 각 파일은 20 kHz 단위로 샘플링 된 20,480개의 data point를 포함하고 있으며, 각 파일의 이름은 데이터가 수집된 시간을 의미한다. 해당 데이터셋은 크게 3개의 데이터를 포함하고 있으며, 본 실습에서 사용하는 데이터는 bearing 1에서 outer race failure가 발생할 때까지 수집된 센서 데이터이다. <br><br>\n",
    "- 변수 설명\n",
    "    - 독립 변수 (4개): Bearing1, Bearing2, Bearing3, Bearing4 <br><br>\n",
    "- 출처: https://ti.arc.nasa.gov/tech/dash/groups/pcoe/prognostic-data-repository/\n",
    "\n"
   ]
  },
  {
   "cell_type": "markdown",
   "metadata": {},
   "source": [
    "<img src=\"https://i.imgur.com/dfFzn3H.jpg\" width=\"600\">"
   ]
  },
  {
   "cell_type": "code",
   "execution_count": 45,
   "metadata": {},
   "outputs": [],
   "source": [
    "import pandas as pd\n",
    "import numpy as np\n",
    "import seaborn as sns\n",
    "import matplotlib.pyplot as plt\n",
    "from sklearn.preprocessing import StandardScaler"
   ]
  },
  {
   "cell_type": "markdown",
   "metadata": {},
   "source": [
    "### Step1. 데이터 불러오기"
   ]
  },
  {
   "cell_type": "code",
   "execution_count": 46,
   "metadata": {
    "scrolled": true
   },
   "outputs": [
    {
     "data": {
      "text/html": [
       "<div>\n",
       "<style scoped>\n",
       "    .dataframe tbody tr th:only-of-type {\n",
       "        vertical-align: middle;\n",
       "    }\n",
       "\n",
       "    .dataframe tbody tr th {\n",
       "        vertical-align: top;\n",
       "    }\n",
       "\n",
       "    .dataframe thead th {\n",
       "        text-align: right;\n",
       "    }\n",
       "</style>\n",
       "<table border=\"1\" class=\"dataframe\">\n",
       "  <thead>\n",
       "    <tr style=\"text-align: right;\">\n",
       "      <th></th>\n",
       "      <th>Bearing 1</th>\n",
       "      <th>Bearing 2</th>\n",
       "      <th>Bearing 3</th>\n",
       "      <th>Bearing 4</th>\n",
       "      <th>anomaly</th>\n",
       "      <th>data_type</th>\n",
       "    </tr>\n",
       "  </thead>\n",
       "  <tbody>\n",
       "    <tr>\n",
       "      <th>2004-02-12 10:32:39</th>\n",
       "      <td>0.058333</td>\n",
       "      <td>0.071832</td>\n",
       "      <td>0.083242</td>\n",
       "      <td>0.043067</td>\n",
       "      <td>False</td>\n",
       "      <td>train</td>\n",
       "    </tr>\n",
       "    <tr>\n",
       "      <th>2004-02-12 10:42:39</th>\n",
       "      <td>0.058995</td>\n",
       "      <td>0.074006</td>\n",
       "      <td>0.084435</td>\n",
       "      <td>0.044541</td>\n",
       "      <td>False</td>\n",
       "      <td>train</td>\n",
       "    </tr>\n",
       "    <tr>\n",
       "      <th>2004-02-12 10:52:39</th>\n",
       "      <td>0.060236</td>\n",
       "      <td>0.074227</td>\n",
       "      <td>0.083926</td>\n",
       "      <td>0.044443</td>\n",
       "      <td>False</td>\n",
       "      <td>train</td>\n",
       "    </tr>\n",
       "    <tr>\n",
       "      <th>2004-02-12 11:02:39</th>\n",
       "      <td>0.061455</td>\n",
       "      <td>0.073844</td>\n",
       "      <td>0.084457</td>\n",
       "      <td>0.045081</td>\n",
       "      <td>False</td>\n",
       "      <td>train</td>\n",
       "    </tr>\n",
       "    <tr>\n",
       "      <th>2004-02-12 11:12:39</th>\n",
       "      <td>0.061361</td>\n",
       "      <td>0.075609</td>\n",
       "      <td>0.082837</td>\n",
       "      <td>0.045118</td>\n",
       "      <td>False</td>\n",
       "      <td>train</td>\n",
       "    </tr>\n",
       "  </tbody>\n",
       "</table>\n",
       "</div>"
      ],
      "text/plain": [
       "                     Bearing 1  Bearing 2  Bearing 3  Bearing 4  anomaly  \\\n",
       "2004-02-12 10:32:39   0.058333   0.071832   0.083242   0.043067    False   \n",
       "2004-02-12 10:42:39   0.058995   0.074006   0.084435   0.044541    False   \n",
       "2004-02-12 10:52:39   0.060236   0.074227   0.083926   0.044443    False   \n",
       "2004-02-12 11:02:39   0.061455   0.073844   0.084457   0.045081    False   \n",
       "2004-02-12 11:12:39   0.061361   0.075609   0.082837   0.045118    False   \n",
       "\n",
       "                    data_type  \n",
       "2004-02-12 10:32:39     train  \n",
       "2004-02-12 10:42:39     train  \n",
       "2004-02-12 10:52:39     train  \n",
       "2004-02-12 11:02:39     train  \n",
       "2004-02-12 11:12:39     train  "
      ]
     },
     "execution_count": 46,
     "metadata": {},
     "output_type": "execute_result"
    }
   ],
   "source": [
    "# 데이터 불러오기\n",
    "merged_data = pd.read_csv('./data/merged_dataset.csv', index_col=0)\n",
    "merged_data.index = pd.to_datetime(merged_data.index)\n",
    "merged_data.head()"
   ]
  },
  {
   "cell_type": "code",
   "execution_count": 47,
   "metadata": {},
   "outputs": [
    {
     "data": {
      "text/plain": [
       "<matplotlib.lines.Line2D at 0x7f289bd1a8d0>"
      ]
     },
     "execution_count": 47,
     "metadata": {},
     "output_type": "execute_result"
    },
    {
     "data": {
      "image/png": "[encoded data removed]",
      "text/plain": [
       "<Figure size 864x432 with 1 Axes>"
      ]
     },
     "metadata": {
      "needs_background": "light"
     },
     "output_type": "display_data"
    }
   ],
   "source": [
    "# 전체 기간의 데이터 분포 확인\n",
    "merged_data.plot(figsize = (12, 6))\n",
    "plt.axvline(merged_data.index[int(len(merged_data) * 0.5)], c='black')\n",
    "plt.axvline(merged_data.index[int(len(merged_data) * 0.7)], c='black')"
   ]
  },
  {
   "cell_type": "markdown",
   "metadata": {},
   "source": [
    "### Step2. 데이터 Split"
   ]
  },
  {
   "cell_type": "code",
   "execution_count": 48,
   "metadata": {
    "scrolled": true
   },
   "outputs": [
    {
     "name": "stdout",
     "output_type": "stream",
     "text": [
      "Training data shape: (492, 4)\n",
      "Test data shape: (492, 4)\n"
     ]
    }
   ],
   "source": [
    "X_train = merged_data[merged_data['data_type'] == 'train'].iloc[:, :4]\n",
    "y_train = merged_data[merged_data['data_type'] == 'train'].iloc[:, -2].values\n",
    "\n",
    "X_test = merged_data[merged_data['data_type'] == 'test'].iloc[:, :4]\n",
    "y_test = merged_data[merged_data['data_type'] == 'test'].iloc[:, -2].values\n",
    "\n",
    "print(\"Training data shape:\", X_train.shape)\n",
    "print(\"Test data shape:\", X_test.shape)"
   ]
  },
  {
   "cell_type": "markdown",
   "metadata": {},
   "source": [
    "### Step3. 데이터 정규화"
   ]
  },
  {
   "cell_type": "code",
   "execution_count": 49,
   "metadata": {},
   "outputs": [],
   "source": [
    "# train 데이터를 기반으로 train/test 데이터에 대하여 standard scaling 적용 (평균 0, 분산 1) \n",
    "scaler = StandardScaler()\n",
    "scaler = scaler.fit(X_train)"
   ]
  },
  {
   "cell_type": "code",
   "execution_count": 50,
   "metadata": {},
   "outputs": [],
   "source": [
    "X_train = pd.DataFrame(scaler.transform(X_train), \n",
    "                       columns=X_train.columns, \n",
    "                       index=X_train.index)\n",
    "X_test = pd.DataFrame(scaler.transform(X_test), \n",
    "                      columns=X_test.columns, \n",
    "                      index=X_test.index)"
   ]
  },
  {
   "cell_type": "markdown",
   "metadata": {},
   "source": [
    "---"
   ]
  },
  {
   "cell_type": "markdown",
   "metadata": {},
   "source": [
    "# 2. Autoencoders"
   ]
  },
  {
   "cell_type": "markdown",
   "metadata": {},
   "source": [
    "### simple autoencoders\n",
    "ANN(인공신경망)으로 구성된 autoencoders구조 실습"
   ]
  },
  {
   "cell_type": "code",
   "execution_count": 51,
   "metadata": {},
   "outputs": [],
   "source": [
    "from sklearn.neural_network import MLPRegressor\n",
    "from sklearn.metrics import confusion_matrix\n",
    "from sklearn.metrics import f1_score"
   ]
  },
  {
   "cell_type": "code",
   "execution_count": 52,
   "metadata": {},
   "outputs": [
    {
     "data": {
      "text/plain": [
       "(492, 4)"
      ]
     },
     "execution_count": 52,
     "metadata": {},
     "output_type": "execute_result"
    }
   ],
   "source": [
    "X_train.shape"
   ]
  },
  {
   "cell_type": "code",
   "execution_count": 9,
   "metadata": {},
   "outputs": [],
   "source": [
    "# Shape of input and latent variable\n",
    "\n",
    "input_dim = 4\n",
    "\n",
    "# Encoder structure\n",
    "encoder1_dim = 16\n",
    "encoder2_dim = 16\n",
    "\n",
    "latent_dim = 8\n",
    "\n",
    "# Decoder structure\n",
    "decoder1_dim = 16\n",
    "decoder2_dim = 16\n"
   ]
  },
  {
   "cell_type": "markdown",
   "metadata": {},
   "source": [
    "### Step 1. Train 데이터 기반 AE(Autoencoders)모델 적합"
   ]
  },
  {
   "cell_type": "markdown",
   "metadata": {},
   "source": [
    "- `hidden_layer_sizes`: 뉴런넷 hidden layer의 사이즈를 tuple로 받으며, 순차적으로 연결됨\n",
    "- `activation`: non-linear activation 사용\n",
    "- `learninig_rate_init`: 초기 학습률\n",
    "- `max_iter`: 학습 반복수\n",
    "- `tol`: stop 기준\n",
    "- `verbose`: 학습 log 출력"
   ]
  },
  {
   "cell_type": "code",
   "execution_count": 53,
   "metadata": {},
   "outputs": [],
   "source": [
    "ae = MLPRegressor(hidden_layer_sizes = (encoder1_dim, encoder2_dim, latent_dim, decoder1_dim, decoder2_dim), \n",
    "                   activation = 'tanh', \n",
    "                   solver = 'adam', \n",
    "                   learning_rate_init = 0.01, \n",
    "                   max_iter = 100, \n",
    "                   tol = 0.0001, \n",
    "                   verbose = True)"
   ]
  },
  {
   "cell_type": "code",
   "execution_count": 54,
   "metadata": {},
   "outputs": [
    {
     "name": "stdout",
     "output_type": "stream",
     "text": [
      "Iteration 1, loss = 0.54996809\n",
      "Iteration 2, loss = 0.26702039\n",
      "Iteration 3, loss = 0.19086738\n",
      "Iteration 4, loss = 0.19863674\n",
      "Iteration 5, loss = 0.17177035\n",
      "Iteration 6, loss = 0.15679993\n",
      "Iteration 7, loss = 0.13909392\n",
      "Iteration 8, loss = 0.12538069\n",
      "Iteration 9, loss = 0.11384897\n",
      "Iteration 10, loss = 0.09538276\n",
      "Iteration 11, loss = 0.07638189\n",
      "Iteration 12, loss = 0.05659290\n",
      "Iteration 13, loss = 0.04417678\n",
      "Iteration 14, loss = 0.04054970\n",
      "Iteration 15, loss = 0.03896571\n",
      "Iteration 16, loss = 0.03462153\n",
      "Iteration 17, loss = 0.02860893\n",
      "Iteration 18, loss = 0.02571695\n",
      "Iteration 19, loss = 0.02479003\n",
      "Iteration 20, loss = 0.02260969\n",
      "Iteration 21, loss = 0.02083243\n",
      "Iteration 22, loss = 0.01869423\n",
      "Iteration 23, loss = 0.01708843\n",
      "Iteration 24, loss = 0.01577934\n",
      "Iteration 25, loss = 0.01481081\n",
      "Iteration 26, loss = 0.01387140\n",
      "Iteration 27, loss = 0.01249417\n",
      "Iteration 28, loss = 0.01192954\n",
      "Iteration 29, loss = 0.01096584\n",
      "Iteration 30, loss = 0.01022893\n",
      "Iteration 31, loss = 0.00973883\n",
      "Iteration 32, loss = 0.00915608\n",
      "Iteration 33, loss = 0.00855589\n",
      "Iteration 34, loss = 0.00797841\n",
      "Iteration 35, loss = 0.00781193\n",
      "Iteration 36, loss = 0.00756269\n",
      "Iteration 37, loss = 0.00706989\n",
      "Iteration 38, loss = 0.00666732\n",
      "Iteration 39, loss = 0.00634817\n",
      "Iteration 40, loss = 0.00590403\n",
      "Iteration 41, loss = 0.00569446\n",
      "Iteration 42, loss = 0.00542659\n",
      "Iteration 43, loss = 0.00502082\n",
      "Iteration 44, loss = 0.00478070\n",
      "Iteration 45, loss = 0.00461226\n",
      "Iteration 46, loss = 0.00444243\n",
      "Iteration 47, loss = 0.00440687\n",
      "Iteration 48, loss = 0.00411364\n",
      "Iteration 49, loss = 0.00397400\n",
      "Iteration 50, loss = 0.00402705\n",
      "Iteration 51, loss = 0.00431703\n",
      "Iteration 52, loss = 0.00398130\n",
      "Iteration 53, loss = 0.00430718\n",
      "Iteration 54, loss = 0.00382276\n",
      "Iteration 55, loss = 0.00363612\n",
      "Iteration 56, loss = 0.00414437\n",
      "Iteration 57, loss = 0.00341843\n",
      "Iteration 58, loss = 0.00338364\n",
      "Iteration 59, loss = 0.00309252\n",
      "Iteration 60, loss = 0.00290184\n",
      "Iteration 61, loss = 0.00284180\n",
      "Iteration 62, loss = 0.00253944\n",
      "Iteration 63, loss = 0.00238507\n",
      "Iteration 64, loss = 0.00219010\n",
      "Iteration 65, loss = 0.00225594\n",
      "Iteration 66, loss = 0.00201754\n",
      "Iteration 67, loss = 0.00198206\n",
      "Iteration 68, loss = 0.00193789\n",
      "Iteration 69, loss = 0.00181770\n",
      "Iteration 70, loss = 0.00203991\n",
      "Iteration 71, loss = 0.00220637\n",
      "Iteration 72, loss = 0.00207440\n",
      "Iteration 73, loss = 0.00216898\n",
      "Iteration 74, loss = 0.00202037\n",
      "Iteration 75, loss = 0.00179010\n",
      "Iteration 76, loss = 0.00203369\n",
      "Iteration 77, loss = 0.00171716\n",
      "Iteration 78, loss = 0.00181886\n",
      "Iteration 79, loss = 0.00206957\n",
      "Iteration 80, loss = 0.00210905\n",
      "Training loss did not improve more than tol=0.000100 for 10 consecutive epochs. Stopping.\n"
     ]
    },
    {
     "data": {
      "text/plain": [
       "MLPRegressor(activation='tanh', hidden_layer_sizes=(16, 16, 8, 16, 16),\n",
       "             learning_rate_init=0.01, max_iter=100, verbose=True)"
      ]
     },
     "execution_count": 54,
     "metadata": {},
     "output_type": "execute_result"
    }
   ],
   "source": [
    "# AE 모델 적합\n",
    "ae.fit(X_train, X_train)"
   ]
  },
  {
   "cell_type": "markdown",
   "metadata": {},
   "source": [
    "### Step 2. 적합된 모델을 기반으로 train/test 데이터의 anomaly score 도출"
   ]
  },
  {
   "cell_type": "code",
   "execution_count": 55,
   "metadata": {},
   "outputs": [],
   "source": [
    "def score(model,X):\n",
    "    scores_ = np.square((X.values-ae.predict(X))).mean(axis=1)\n",
    "    return scores_"
   ]
  },
  {
   "cell_type": "code",
   "execution_count": 56,
   "metadata": {
    "scrolled": true
   },
   "outputs": [],
   "source": [
    "# train/test 데이터의 ae score 도출\n",
    "ae_train = score(ae, X_train)\n",
    "ae_test = score(ae, X_test)"
   ]
  },
  {
   "cell_type": "code",
   "execution_count": 57,
   "metadata": {},
   "outputs": [
    {
     "name": "stderr",
     "output_type": "stream",
     "text": [
      "/home/donghwa/anaconda3/envs/lab/lib/python3.6/site-packages/seaborn/distributions.py:2551: FutureWarning: `distplot` is a deprecated function and will be removed in a future version. Please adapt your code to use either `displot` (a figure-level function with similar flexibility) or `histplot` (an axes-level function for histograms).\n",
      "  warnings.warn(msg, FutureWarning)\n",
      "/home/donghwa/anaconda3/envs/lab/lib/python3.6/site-packages/seaborn/distributions.py:2551: FutureWarning: `distplot` is a deprecated function and will be removed in a future version. Please adapt your code to use either `displot` (a figure-level function with similar flexibility) or `histplot` (an axes-level function for histograms).\n",
      "  warnings.warn(msg, FutureWarning)\n"
     ]
    },
    {
     "data": {
      "text/plain": [
       "Text(0.5, 1.0, 'Test Data')"
      ]
     },
     "execution_count": 57,
     "metadata": {},
     "output_type": "execute_result"
    },
    {
     "data": {
      "image/png": "[encoded data removed]",
      "text/plain": [
       "<Figure size 576x576 with 2 Axes>"
      ]
     },
     "metadata": {
      "needs_background": "light"
     },
     "output_type": "display_data"
    }
   ],
   "source": [
    "# train/test 데이터의 anomaly score 분포 시각화\n",
    "fig, (ax1, ax2) = plt.subplots(nrows=2, ncols=1, figsize = (8, 8))\n",
    "\n",
    "sns.distplot(ae_train, bins=100, kde=True, color='blue', ax=ax1)\n",
    "sns.distplot(ae_test, bins=100, kde=True, color='red', ax=ax2)\n",
    "ax1.set_title(\"Train Data\")\n",
    "ax2.set_title(\"Test Data\")"
   ]
  },
  {
   "cell_type": "markdown",
   "metadata": {},
   "source": [
    "### Step 3. Threshold 탐색"
   ]
  },
  {
   "cell_type": "code",
   "execution_count": 58,
   "metadata": {},
   "outputs": [],
   "source": [
    "# threshold 탐색\n",
    "# score의 min ~ max 범위를 num_step개로 균등 분할한 threshold에 대하여 best threshold 탐색 \n",
    "def search_best_threshold(score, y_true, num_step):\n",
    "    best_f1 = 0.5\n",
    "    best_threshold = None\n",
    "    for threshold in np.linspace(min(score), max(score), num_step):\n",
    "        y_pred = threshold < score\n",
    "\n",
    "        f1 = f1_score(y_true, y_pred)\n",
    "        if f1 > best_f1:\n",
    "            best_f1 = f1\n",
    "            best_threshold = threshold\n",
    "\n",
    "    print('Best threshold: ', round(best_threshold, 4))\n",
    "    print('Best F1 Score:', round(best_f1, 4))\n",
    "    return best_threshold"
   ]
  },
  {
   "cell_type": "code",
   "execution_count": 59,
   "metadata": {},
   "outputs": [
    {
     "name": "stdout",
     "output_type": "stream",
     "text": [
      "Best threshold:  66.5534\n",
      "Best F1 Score: 0.9338\n"
     ]
    }
   ],
   "source": [
    "# best threshold 도출\n",
    "ae_best_threshold = search_best_threshold(ae_test, y_test, num_step=1000)"
   ]
  },
  {
   "cell_type": "markdown",
   "metadata": {},
   "source": [
    "### Step 4. Best threshold를 기반으로 이상치 탐지 모형 평가"
   ]
  },
  {
   "cell_type": "code",
   "execution_count": 60,
   "metadata": {},
   "outputs": [
    {
     "data": {
      "text/html": [
       "<div>\n",
       "<style scoped>\n",
       "    .dataframe tbody tr th:only-of-type {\n",
       "        vertical-align: middle;\n",
       "    }\n",
       "\n",
       "    .dataframe tbody tr th {\n",
       "        vertical-align: top;\n",
       "    }\n",
       "\n",
       "    .dataframe thead th {\n",
       "        text-align: right;\n",
       "    }\n",
       "</style>\n",
       "<table border=\"1\" class=\"dataframe\">\n",
       "  <thead>\n",
       "    <tr style=\"text-align: right;\">\n",
       "      <th></th>\n",
       "      <th>score</th>\n",
       "      <th>anomaly</th>\n",
       "    </tr>\n",
       "  </thead>\n",
       "  <tbody>\n",
       "    <tr>\n",
       "      <th>2004-02-12 10:32:39</th>\n",
       "      <td>0.177164</td>\n",
       "      <td>False</td>\n",
       "    </tr>\n",
       "    <tr>\n",
       "      <th>2004-02-12 10:42:39</th>\n",
       "      <td>0.042225</td>\n",
       "      <td>False</td>\n",
       "    </tr>\n",
       "    <tr>\n",
       "      <th>2004-02-12 10:52:39</th>\n",
       "      <td>0.006496</td>\n",
       "      <td>False</td>\n",
       "    </tr>\n",
       "    <tr>\n",
       "      <th>2004-02-12 11:02:39</th>\n",
       "      <td>0.022715</td>\n",
       "      <td>False</td>\n",
       "    </tr>\n",
       "    <tr>\n",
       "      <th>2004-02-12 11:12:39</th>\n",
       "      <td>0.007755</td>\n",
       "      <td>False</td>\n",
       "    </tr>\n",
       "  </tbody>\n",
       "</table>\n",
       "</div>"
      ],
      "text/plain": [
       "                        score  anomaly\n",
       "2004-02-12 10:32:39  0.177164    False\n",
       "2004-02-12 10:42:39  0.042225    False\n",
       "2004-02-12 10:52:39  0.006496    False\n",
       "2004-02-12 11:02:39  0.022715    False\n",
       "2004-02-12 11:12:39  0.007755    False"
      ]
     },
     "execution_count": 60,
     "metadata": {},
     "output_type": "execute_result"
    }
   ],
   "source": [
    "# 최종 결과 도출\n",
    "ae_scores = pd.DataFrame(index=merged_data.index)\n",
    "ae_scores['score'] = list(np.hstack([ae_train, ae_test]))\n",
    "ae_scores['anomaly'] = ae_best_threshold < ae_scores['score']\n",
    "ae_scores.head()"
   ]
  },
  {
   "cell_type": "code",
   "execution_count": 41,
   "metadata": {},
   "outputs": [],
   "source": [
    "# anomaly score plot 도출\n",
    "def draw_plot(scores, threshold):\n",
    "    normal_scores = scores[scores['anomaly'] == False]\n",
    "    abnormal_scores = scores[scores['anomaly'] == True]\n",
    "\n",
    "    plt.figure(figsize = (12,5))\n",
    "    plt.scatter(normal_scores.index, normal_scores['score'], label='Normal', c='blue', s=3)\n",
    "    plt.scatter(abnormal_scores.index, abnormal_scores['score'], label='Abnormal', c='red', s=3)\n",
    "    \n",
    "    plt.axhline(threshold, c='green', alpha=0.7)\n",
    "    plt.axvline(merged_data.index[int(len(merged_data) * 0.5)], c='orange', ls='--')\n",
    "    \n",
    "    plt.xlabel('Date')\n",
    "    plt.ylabel('Anomaly Score')\n",
    "    plt.legend()\n",
    "    \n",
    "    plt.show()"
   ]
  },
  {
   "cell_type": "code",
   "execution_count": 42,
   "metadata": {},
   "outputs": [
    {
     "data": {
      "image/png": "[encoded data removed]",
      "text/plain": [
       "<Figure size 864x360 with 1 Axes>"
      ]
     },
     "metadata": {
      "needs_background": "light"
     },
     "output_type": "display_data"
    }
   ],
   "source": [
    "# 전체 데이터의 anomaly score 확인\n",
    "draw_plot(ae_scores, ae_best_threshold)"
   ]
  },
  {
   "cell_type": "code",
   "execution_count": 61,
   "metadata": {},
   "outputs": [],
   "source": [
    "# FRR, FAR, F1 score 도출\n",
    "def calculate_metric(y_true, y_pred):\n",
    "    cm = confusion_matrix(y_true, y_pred, labels=[True, False])\n",
    "    tp, fn, fp, tn = cm.ravel()\n",
    "    \n",
    "    frr = fp / (fp + tn)\n",
    "    far = fn / (fn + tp) \n",
    "    \n",
    "    f1 = f1_score(y_true, y_pred)\n",
    "    \n",
    "    return frr, far, f1"
   ]
  },
  {
   "cell_type": "code",
   "execution_count": 62,
   "metadata": {},
   "outputs": [
    {
     "name": "stdout",
     "output_type": "stream",
     "text": [
      "**  FRR: 0.2143  |  FAR: 0.0  |  F1 Score: 0.9338\n"
     ]
    }
   ],
   "source": [
    "# F1 Score: 0.9291\n",
    "frr, far, f1 = calculate_metric(y_test, ae_scores['anomaly'].iloc[int(len(merged_data) * 0.5):])\n",
    "\n",
    "print(\"**  FRR: {}  |  FAR: {}  |  F1 Score: {}\".format(round(frr, 4), round(far, 4), round(f1, 4)))"
   ]
  },
  {
   "cell_type": "markdown",
   "metadata": {},
   "source": [
    "---"
   ]
  }
 ],
 "metadata": {
  "kernelspec": {
   "display_name": "lab",
   "language": "python",
   "name": "lab"
  },
  "language_info": {
   "codemirror_mode": {
    "name": "ipython",
    "version": 3
   },
   "file_extension": ".py",
   "mimetype": "text/x-python",
   "name": "python",
   "nbconvert_exporter": "python",
   "pygments_lexer": "ipython3",
   "version": "3.6.10"
  }
 },
 "nbformat": 4,
 "nbformat_minor": 4
}
